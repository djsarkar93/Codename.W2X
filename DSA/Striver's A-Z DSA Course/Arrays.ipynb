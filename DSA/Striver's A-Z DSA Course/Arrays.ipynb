{
 "cells": [
  {
   "cell_type": "markdown",
   "id": "d8a8e260",
   "metadata": {},
   "source": [
    "# Arrays"
   ]
  },
  {
   "cell_type": "markdown",
   "id": "4cfdad05",
   "metadata": {},
   "source": [
    "<h3><a href='https://takeuforward.org/data-structure/linear-search-in-c/'>Problem Statement 1: Linear Search</a></h3>\n",
    "<p>Given an array, and an element num the task is to find if num is present in the given array or not. If present print the index of the element or print -1.</p>\n",
    "<pre>\n",
    "Example 1:\n",
    "Input: arr[]= 1 2 3 4 5, num = 3\n",
    "Output: 2\n",
    "Explanation: 3 is present in the 2nd index\n",
    "\n",
    "Example 2:\n",
    "Input: arr[]= 5 4 3 2 1, num = 5\n",
    "Output: 0\n",
    "Explanation: 5 is present in the 0th index\n",
    "</pre>"
   ]
  },
  {
   "cell_type": "code",
   "execution_count": 1,
   "id": "985695a7",
   "metadata": {},
   "outputs": [],
   "source": [
    "\"\"\"\n",
    "Time Complexity  : O( n )\n",
    "Space Complexity : O( 1 )\n",
    "\"\"\"\n",
    "def linear_search(arr, num):\n",
    "    n = len(arr)\n",
    "    \n",
    "    for i in range(0, n):\n",
    "        if arr[i] == num:\n",
    "            return i\n",
    "    \n",
    "    return -1"
   ]
  },
  {
   "cell_type": "code",
   "execution_count": 2,
   "id": "0db6b127",
   "metadata": {},
   "outputs": [
    {
     "name": "stdout",
     "output_type": "stream",
     "text": [
      "arr: [1, 2, 3, 4, 5] num: 3 Index: 2\n",
      "arr: [5, 4, 3, 2, 1] num: 5 Index: 0\n",
      "arr: [5, 4, 3, 2, 1] num: 7 Index: -1\n"
     ]
    }
   ],
   "source": [
    "test_cases = [{'arr': [1,2,3,4,5], 'num': 3}, \n",
    "              {'arr': [5,4,3,2,1], 'num': 5},\n",
    "              {'arr': [5,4,3,2,1], 'num': 7}]\n",
    "\n",
    "for tc in test_cases:\n",
    "    arr = tc['arr']\n",
    "    num = tc['num']\n",
    "    print('arr:', arr, 'num:', num, 'Index:', linear_search(arr, num))"
   ]
  },
  {
   "cell_type": "markdown",
   "id": "8dc34c21",
   "metadata": {},
   "source": [
    "<h3><a href='https://takeuforward.org/data-structure/check-if-an-array-is-sorted/'>Problem Statement 2: Check if an Array is Sorted</a></h3>\n",
    "<p>Given an array of size n, write a program to check if the given array is sorted in (ascending / Increasing / Non-decreasing) order or not. If the array is sorted then return True, Else return False.<br/>\n",
    "<br/>\n",
    "<i><b>Note:</b> Two consecutive equal values are considered to be sorted.</i></p>\n",
    "<pre>\n",
    "Example 1:\n",
    "Input: N = 5, array[] = {1,2,3,4,5}\n",
    "Output: True.\n",
    "Explanation: The given array is sorted.\n",
    "\n",
    "Example 2:\n",
    "Input: N = 5, array[] = {5,4,6,7,8}\n",
    "Output: False.\n",
    "Explanation: The given array is not sorted. Element 5 is not smaller than or equal to its next elements.\n",
    "</pre>"
   ]
  },
  {
   "cell_type": "code",
   "execution_count": 3,
   "id": "b811b32a",
   "metadata": {},
   "outputs": [],
   "source": [
    "\"\"\"\n",
    "Time Complexity  : O( n )\n",
    "Space Complexity : O( 1 )\n",
    "\"\"\"\n",
    "def is_sorted(arr):\n",
    "    n = len(arr)\n",
    "    \n",
    "    for i in range(1, n):\n",
    "        if arr[i-1] > arr[i]:\n",
    "            return False\n",
    "    \n",
    "    return True"
   ]
  },
  {
   "cell_type": "code",
   "execution_count": 4,
   "id": "f96f55ca",
   "metadata": {},
   "outputs": [
    {
     "name": "stdout",
     "output_type": "stream",
     "text": [
      "arr: [1, 2, 3, 4, 5] is sorted: True\n",
      "arr: [4, 6, 5, 7, 8] is sorted: False\n"
     ]
    }
   ],
   "source": [
    "test_cases = [{'arr': [1,2,3,4,5]}, \n",
    "              {'arr': [4,6,5,7,8]}]\n",
    "\n",
    "for tc in test_cases:\n",
    "    arr = tc['arr']\n",
    "    print('arr:', arr, 'is sorted:', is_sorted(arr))"
   ]
  },
  {
   "cell_type": "markdown",
   "id": "a6ecc2d5",
   "metadata": {},
   "source": [
    "<h3><a href='https://takeuforward.org/data-structure/find-the-largest-element-in-an-array/'>Problem Statement 3: Find the largest & smallest elements in an array</a></h3>\n",
    "<p>Given an array, find the largest and the smallest elements in the array.</p>\n",
    "<pre>\n",
    "Example 1:\n",
    "Input: arr[] = {2,5,1,3,0};\n",
    "Output: (0, 5)\n",
    "\n",
    "Example2: \n",
    "Input: arr[] = {8,10,5,7,9};\n",
    "Output: (5, 10)\n",
    "</pre>"
   ]
  },
  {
   "cell_type": "code",
   "execution_count": 5,
   "id": "2afc121c",
   "metadata": {},
   "outputs": [],
   "source": [
    "\"\"\"\n",
    "Time Complexity  : O( n )\n",
    "Space Complexity : O( 1 )\n",
    "\"\"\"\n",
    "def find_min_max(arr):\n",
    "    mini = maxi = arr[0]\n",
    "    \n",
    "    n = len(arr)\n",
    "    for i in range(1, n):\n",
    "        mini = min(arr[i], mini)\n",
    "        maxi = max(arr[i], maxi)\n",
    "    \n",
    "    return mini, maxi"
   ]
  },
  {
   "cell_type": "code",
   "execution_count": 6,
   "id": "90e57a74",
   "metadata": {},
   "outputs": [
    {
     "name": "stdout",
     "output_type": "stream",
     "text": [
      "arr: [2, 5, 1, 3, 0] (min, max): (0, 5)\n",
      "arr: [8, 10, 5, 7, 9] (min, max): (5, 10)\n"
     ]
    }
   ],
   "source": [
    "test_cases = [{'arr': [2,5,1,3,0]}, \n",
    "              {'arr': [8,10,5,7,9]}]\n",
    "\n",
    "for tc in test_cases:\n",
    "    arr = tc['arr']\n",
    "    print('arr:', arr, '(min, max):', find_min_max(arr))"
   ]
  },
  {
   "cell_type": "markdown",
   "id": "be26ec89",
   "metadata": {},
   "source": [
    "<h3><a href='https://takeuforward.org/strivers-a2z-dsa-course/strivers-a2z-dsa-course-sheet-2/'>Problem Statement 4: Find the second largest & smallest elements in an array</a></h3>\n",
    "<p>Given an array, find the second smallest and second largest element in the array. Print ‘-1’ in the event that either of them doesn’t exist.</p>\n",
    "<pre>\n",
    "Example 1:\n",
    "Input: [1,2,4,7,7,5]\n",
    "Output: (2, 5)\n",
    "\n",
    "Example 2:\n",
    "Input: [1]\n",
    "Output: (-1, -1)\n",
    "</pre>"
   ]
  },
  {
   "cell_type": "code",
   "execution_count": 7,
   "id": "41ba727c",
   "metadata": {},
   "outputs": [],
   "source": [
    "\"\"\"\n",
    "Brute force solution\n",
    "\n",
    "Time Complexity  : O( n log n ) [For sorting the array]\n",
    "Space Complexity : O( 1 )\n",
    "\"\"\"\n",
    "def find_2nd_mini_maxi_BFS(arr):\n",
    "    arr.sort()\n",
    "    \n",
    "    #If it is guaranteed that the array has no duplicates\n",
    "    #return arr[1], arr[-2]\n",
    "    \n",
    "    mini = float('inf')\n",
    "    maxi = float('-inf')\n",
    "    n = len(arr)\n",
    "    \n",
    "    for i in range(0, n):\n",
    "        if arr[i] != arr[0]:\n",
    "            mini = min(arr[i], mini)\n",
    "        \n",
    "        if arr[i] != arr[-1]:\n",
    "            maxi = max(arr[i], maxi)\n",
    "    \n",
    "    mini = -1 if mini == float('inf') else mini\n",
    "    maxi = -1 if maxi == float('-inf') else maxi\n",
    "    \n",
    "    return mini, maxi"
   ]
  },
  {
   "cell_type": "code",
   "execution_count": 8,
   "id": "fc970f5e",
   "metadata": {},
   "outputs": [
    {
     "name": "stdout",
     "output_type": "stream",
     "text": [
      "arr: [1] \t\t\t(min, max): (-1, -1)\n",
      "arr: [1, 1, 1, 1, 1, 1] \t(min, max): (-1, -1)\n",
      "arr: [1, 1, 3] \t\t\t(min, max): (3, 1)\n",
      "arr: [1, 2, 4, 5, 7, 7] \t(min, max): (2, 5)\n",
      "arr: [5, 7, 8, 9, 10] \t\t(min, max): (7, 9)\n"
     ]
    }
   ],
   "source": [
    "test_cases = [{'arr': [1]},\n",
    "              {'arr': [1,1,1,1,1,1]},\n",
    "              {'arr': [1,1,3]},\n",
    "              {'arr': [1,2,4,7,7,5]},\n",
    "              {'arr': [8,10,5,7,9]}]\n",
    "\n",
    "\n",
    "print('arr:', test_cases[0]['arr'], '\\t\\t\\t(min, max):', find_2nd_mini_maxi_BFS(arr = test_cases[0]['arr']))\n",
    "print('arr:', test_cases[1]['arr'], '\\t(min, max):',     find_2nd_mini_maxi_BFS(arr = test_cases[1]['arr']))\n",
    "print('arr:', test_cases[2]['arr'], '\\t\\t\\t(min, max):', find_2nd_mini_maxi_BFS(arr = test_cases[2]['arr']))\n",
    "print('arr:', test_cases[3]['arr'], '\\t(min, max):',     find_2nd_mini_maxi_BFS(arr = test_cases[3]['arr']))\n",
    "print('arr:', test_cases[4]['arr'], '\\t\\t(min, max):',   find_2nd_mini_maxi_BFS(arr = test_cases[4]['arr']))"
   ]
  },
  {
   "cell_type": "code",
   "execution_count": 9,
   "id": "31b98b08",
   "metadata": {},
   "outputs": [],
   "source": [
    "\"\"\"\n",
    "Better solution\n",
    "\n",
    "Time Complexity  : O( 2n )\n",
    "Space Complexity : O( 1 )\n",
    "\"\"\"\n",
    "def find_2nd_mini_maxi_BS(arr):\n",
    "    n = len(arr)\n",
    "    \n",
    "    mini = maxi = arr[0]\n",
    "    for i in range(1, n):\n",
    "        mini = min(arr[i], mini)\n",
    "        maxi = max(arr[i], maxi)\n",
    "    \n",
    "    second_mini = float('inf')\n",
    "    second_maxi = float('-inf')\n",
    "    for i in range(0, n):\n",
    "        if arr[i] != mini:\n",
    "            second_mini = min(arr[i], second_mini)\n",
    "        \n",
    "        if arr[i] != maxi:\n",
    "            second_maxi = max(arr[i], second_maxi)\n",
    "    \n",
    "    second_mini = -1 if second_mini == float('inf') else second_mini\n",
    "    second_maxi = -1 if second_maxi == float('-inf') else second_maxi\n",
    "    \n",
    "    return second_mini, second_maxi"
   ]
  },
  {
   "cell_type": "code",
   "execution_count": 10,
   "id": "3637dc3c",
   "metadata": {},
   "outputs": [
    {
     "name": "stdout",
     "output_type": "stream",
     "text": [
      "arr: [1] \t\t\t(min, max): (-1, -1)\n",
      "arr: [1, 1, 1, 1, 1, 1] \t(min, max): (-1, -1)\n",
      "arr: [1, 1, 3] \t\t\t(min, max): (3, 1)\n",
      "arr: [1, 2, 4, 7, 7, 5] \t(min, max): (2, 5)\n",
      "arr: [8, 10, 5, 7, 9] \t\t(min, max): (7, 9)\n"
     ]
    }
   ],
   "source": [
    "test_cases = [{'arr': [1]},\n",
    "              {'arr': [1,1,1,1,1,1]},\n",
    "              {'arr': [1,1,3]},\n",
    "              {'arr': [1,2,4,7,7,5]},\n",
    "              {'arr': [8,10,5,7,9]}]\n",
    "\n",
    "\n",
    "print('arr:', test_cases[0]['arr'], '\\t\\t\\t(min, max):', find_2nd_mini_maxi_BS(arr = test_cases[0]['arr']))\n",
    "print('arr:', test_cases[1]['arr'], '\\t(min, max):',     find_2nd_mini_maxi_BS(arr = test_cases[1]['arr']))\n",
    "print('arr:', test_cases[2]['arr'], '\\t\\t\\t(min, max):', find_2nd_mini_maxi_BS(arr = test_cases[2]['arr']))\n",
    "print('arr:', test_cases[3]['arr'], '\\t(min, max):',     find_2nd_mini_maxi_BS(arr = test_cases[3]['arr']))\n",
    "print('arr:', test_cases[4]['arr'], '\\t\\t(min, max):',   find_2nd_mini_maxi_BS(arr = test_cases[4]['arr']))"
   ]
  },
  {
   "cell_type": "code",
   "execution_count": 11,
   "id": "3ba89335",
   "metadata": {},
   "outputs": [],
   "source": [
    "\"\"\"\n",
    "Optimal solution\n",
    "\n",
    "Time Complexity  : O( n )\n",
    "Space Complexity : O( 1 )\n",
    "\"\"\"\n",
    "def find_2nd_mini_maxi_OS(arr):\n",
    "    n = len(arr)\n",
    "    \n",
    "    mini, second_mini = arr[0], float('inf')\n",
    "    second_maxi, maxi = float('-inf'), arr[0]\n",
    "    \n",
    "    for i in range(1, n):\n",
    "        #Finds the second smallest element\n",
    "        if arr[i] < mini:\n",
    "            second_mini = mini\n",
    "            mini = arr[i]\n",
    "        elif arr[i] > mini and arr[i] < second_mini:\n",
    "            second_mini = arr[i]\n",
    "        \n",
    "        #Finds the second largest element\n",
    "        if arr[i] > maxi:\n",
    "            second_maxi = maxi\n",
    "            maxi = arr[i]\n",
    "        elif arr[i] < maxi and arr[i] > second_maxi:\n",
    "            second_maxi = arr[i]\n",
    "    \n",
    "    second_mini = -1 if second_mini == float('inf') else second_mini\n",
    "    second_maxi = -1 if second_maxi == float('-inf') else second_maxi\n",
    "    \n",
    "    return second_mini, second_maxi"
   ]
  },
  {
   "cell_type": "code",
   "execution_count": 12,
   "id": "d4d10837",
   "metadata": {},
   "outputs": [
    {
     "name": "stdout",
     "output_type": "stream",
     "text": [
      "arr: [1] \t\t\t(min, max): (-1, -1)\n",
      "arr: [1, 1, 1, 1, 1, 1] \t(min, max): (-1, -1)\n",
      "arr: [1, 1, 3] \t\t\t(min, max): (3, 1)\n",
      "arr: [1, 2, 4, 7, 7, 5] \t(min, max): (2, 5)\n",
      "arr: [8, 10, 5, 7, 9] \t\t(min, max): (7, 9)\n"
     ]
    }
   ],
   "source": [
    "test_cases = [{'arr': [1]},\n",
    "              {'arr': [1,1,1,1,1,1]},\n",
    "              {'arr': [1,1,3]},\n",
    "              {'arr': [1,2,4,7,7,5]},\n",
    "              {'arr': [8,10,5,7,9]}]\n",
    "\n",
    "\n",
    "print('arr:', test_cases[0]['arr'], '\\t\\t\\t(min, max):', find_2nd_mini_maxi_OS(arr = test_cases[0]['arr']))\n",
    "print('arr:', test_cases[1]['arr'], '\\t(min, max):',     find_2nd_mini_maxi_OS(arr = test_cases[1]['arr']))\n",
    "print('arr:', test_cases[2]['arr'], '\\t\\t\\t(min, max):', find_2nd_mini_maxi_OS(arr = test_cases[2]['arr']))\n",
    "print('arr:', test_cases[3]['arr'], '\\t(min, max):',     find_2nd_mini_maxi_OS(arr = test_cases[3]['arr']))\n",
    "print('arr:', test_cases[4]['arr'], '\\t\\t(min, max):',   find_2nd_mini_maxi_OS(arr = test_cases[4]['arr']))"
   ]
  },
  {
   "cell_type": "markdown",
   "id": "385de710",
   "metadata": {},
   "source": [
    "<h3><a href='#'>Problem Statement 5: Reverse an array in-place</a></h3>\n",
    "<p>Given an array, reverse it in-place (i.e. without using extra space).</p>\n",
    "<pre>\n",
    "Example 1:\n",
    "Input: [1,2,4,7,7,5]\n",
    "Output: [5,7,7,4,2,1]\n",
    "\n",
    "Example 2:\n",
    "Input: [1]\n",
    "Output: [1]\n",
    "</pre>"
   ]
  },
  {
   "cell_type": "code",
   "execution_count": 13,
   "id": "d4f514d5",
   "metadata": {},
   "outputs": [],
   "source": [
    "\"\"\"\n",
    "Time Complexity  : O( n )\n",
    "Space Complexity : O( 1 )\n",
    "\"\"\"\n",
    "def inplace_reverse(arr):\n",
    "    i = 0\n",
    "    j = len(arr) - 1\n",
    "    \n",
    "    while i < j:\n",
    "        arr[i], arr[j] = arr[j], arr[i]\n",
    "        i += 1\n",
    "        j -= 1"
   ]
  },
  {
   "cell_type": "code",
   "execution_count": 14,
   "id": "4c35496a",
   "metadata": {},
   "outputs": [
    {
     "name": "stdout",
     "output_type": "stream",
     "text": [
      "Reversed arr: [5, 7, 7, 4, 2, 1]\n",
      "Reversed arr: [1]\n"
     ]
    }
   ],
   "source": [
    "test_cases = [{'arr': [1,2,4,7,7,5]}, \n",
    "              {'arr': [1]}]\n",
    "\n",
    "for tc in test_cases:\n",
    "    arr = tc['arr']\n",
    "    inplace_reverse(arr)\n",
    "    print('Reversed arr:', arr)"
   ]
  },
  {
   "cell_type": "markdown",
   "id": "c3c53bfa",
   "metadata": {},
   "source": [
    "<h3><a href='https://takeuforward.org/data-structure/move-all-zeros-to-the-end-of-the-array/'>Problem Statement 6: Move all Zeros to the end of the array</a></h3>\n",
    "<p>You are given an array of integers, your task is to move all the zeros in the array to the end of the array and move non-negative integers to the front <b style='color:red'>by maintaining their order</b>.</p>\n",
    "<pre>\n",
    "Example 1:\n",
    "Input: 1 ,0 ,2 ,3 ,0 ,4 ,0 ,1\n",
    "Output: 1 ,2 ,3 ,4 ,1 ,0 ,0 ,0\n",
    "Explanation: All the zeros are moved to the end and non-negative integers are moved to front by maintaining order\n",
    "\n",
    "Example 2:\n",
    "Input: 1,2,0,1,0,4,0\n",
    "Output: 1,2,1,4,0,0,0\n",
    "Explanation: All the zeros are moved to the end and non-negative integers are moved to front by maintaining order\n",
    "</pre>"
   ]
  },
  {
   "cell_type": "code",
   "execution_count": 15,
   "id": "3ceffb77",
   "metadata": {},
   "outputs": [],
   "source": [
    "\"\"\"\n",
    "Time Complexity  : O( n )\n",
    "Space Complexity : O( 1 )\n",
    "\"\"\"\n",
    "def move_zeroes(arr):\n",
    "    n = len(arr)\n",
    "    \n",
    "    for i in range(0, n):\n",
    "        if arr[i] == 0:\n",
    "            j = i\n",
    "            break\n",
    "    \n",
    "    for i in range(j+1, n):\n",
    "        if arr[i] != 0:\n",
    "            arr[i], arr[j] = arr[j], arr[i]\n",
    "            j += 1"
   ]
  },
  {
   "cell_type": "code",
   "execution_count": 16,
   "id": "82bbdcc3",
   "metadata": {},
   "outputs": [
    {
     "name": "stdout",
     "output_type": "stream",
     "text": [
      "New arr: [1, 2, 3, 4, 1, 0, 0, 0]\n",
      "New arr: [1, 2, 1, 4, 0, 0, 0, 0]\n"
     ]
    }
   ],
   "source": [
    "test_cases = [{'arr': [1,0,2,3,0,4,0,1]}, \n",
    "              {'arr': [1,2,0,1,0,4,0,0]}]\n",
    "\n",
    "for tc in test_cases:\n",
    "    arr = tc['arr']\n",
    "    move_zeroes(arr)\n",
    "    print('New arr:', arr)"
   ]
  },
  {
   "cell_type": "markdown",
   "id": "55df2ec7",
   "metadata": {},
   "source": [
    "<h3><a href='https://takeuforward.org/data-structure/remove-duplicates-in-place-from-sorted-array/'>Problem Statement 7: Remove duplicates in-place from Sorted Array</a></h3>\n",
    "<p>Given an integer array sorted in <b style=\"color:red\">ascending order</b>, remove the duplicates in place such that each unique element appears only once. <b style=\"color:red\">The relative order of the elements should be kept the same</b>.<br/>\n",
    "<br/>\n",
    "If there are k elements after removing the duplicates, then the first k elements of the array should hold the final result. It does not matter what you leave beyond the first k elements.<br/>\n",
    "<br/>\n",
    "<i><b>Note:</b> Return k after placing the final result in the first k slots of the array.</i></p>\n",
    "<pre>\n",
    "Example 1: \n",
    "Input: arr[1,1,2,2,2,3,3]\n",
    "Output: arr[1,2,3,_,_,_,_]\n",
    "Explanation: Total number of unique elements are 3, i.e [1,2,3] and Therefore return 3 after assigning [1,2,3] in the beginning of the array.\n",
    "\n",
    "Example 2: \n",
    "Input: arr[1,1,1,2,2,3,3,3,3,4,4]\n",
    "Output: arr[1,2,3,4,_,_,_,_,_,_,_]\n",
    "Explanation: Total number of unique elements are 4, i.e[1,2,3,4] and Therefore return 4 after assigning [1,2,3,4] in the beginning of the array.\n",
    "</pre>"
   ]
  },
  {
   "cell_type": "code",
   "execution_count": 17,
   "id": "e5999154",
   "metadata": {},
   "outputs": [],
   "source": [
    "def remove_duplicates(arr):\n",
    "    n = len(arr)\n",
    "    \n",
    "    j = 0\n",
    "    for i in range(0, n):\n",
    "        if arr[i] != arr[j]:\n",
    "            j += 1\n",
    "            arr[i], arr[j] = arr[j], arr[i]\n",
    "    \n",
    "    return j+1"
   ]
  },
  {
   "cell_type": "code",
   "execution_count": 18,
   "id": "012125e8",
   "metadata": {},
   "outputs": [
    {
     "name": "stdout",
     "output_type": "stream",
     "text": [
      "arr: [1, 1, 2, 2, 2, 3, 3]\t\tUnique Elements: 3\tNew arr: [1, 2, 3, 2, 2, 1, 3]\n",
      "arr: [1, 1, 1, 2, 2, 3, 3, 3, 3, 4, 4]\tUnique Elements: 4\tNew arr: [1, 2, 3, 4, 2, 1, 3, 3, 3, 1, 4]\n"
     ]
    }
   ],
   "source": [
    "test_cases = [{'arr': [1,1,2,2,2,3,3]}, \n",
    "              {'arr': [1,1,1,2,2,3,3,3,3,4,4]}]\n",
    "\n",
    "arr = test_cases[0]['arr']\n",
    "print(f\"arr: {arr}\\t\\tUnique Elements: {remove_duplicates(arr)}\\tNew arr: {arr}\")\n",
    "arr = test_cases[1]['arr']\n",
    "print(f\"arr: {arr}\\tUnique Elements: {remove_duplicates(arr)}\\tNew arr: {arr}\")"
   ]
  },
  {
   "cell_type": "markdown",
   "id": "5b8ede05",
   "metadata": {},
   "source": [
    "<h3><a href='https://takeuforward.org/data-structure/rotate-array-by-k-elements/'>Problem Statement 8: Rotate array by K elements</a></h3>\n",
    "<p>Given an array of integers, rotating array of elements by k elements either left or right.</p>\n",
    "<pre>\n",
    "Example 1:\n",
    "Input: arr = [1,2,3,4,5,6,7], k = 2, right\n",
    "Output: arr = [6,7,1,2,3,4,5]\n",
    "Explanation: array is rotated to right by 2 position.\n",
    "\n",
    "Example 2:\n",
    "Input: arr = [3,7,8,9,10,11], k = 3, left \n",
    "Output: arr = [9,10,11,3,7,8]\n",
    "Explanation: Array is rotated to right by 3 position.\n",
    "</pre>"
   ]
  },
  {
   "cell_type": "code",
   "execution_count": 19,
   "id": "b67f6096",
   "metadata": {},
   "outputs": [],
   "source": [
    "\"\"\"\n",
    "Better solution\n",
    "\n",
    "Time Complexity  : O( n )\n",
    "Space Complexity : O( k )\n",
    "\"\"\"\n",
    "def rotate_BS(arr, k, direction):\n",
    "    n = len(arr)\n",
    "    k = k % n\n",
    "    \n",
    "    if direction == 'LEFT':\n",
    "        tmp_arr = arr[:k]\n",
    "        \n",
    "        for i in range(k, n):\n",
    "            arr[i - k] = arr[i]\n",
    "        \n",
    "        for i in range(n-k, n):\n",
    "            arr[i] = tmp_arr[i - k]\n",
    "    else:\n",
    "        tmp_arr = arr[n-k:]\n",
    "        \n",
    "        for i in range(n-k-1, -1, -1):\n",
    "            arr[i + k] = arr[i]\n",
    "        \n",
    "        for i in range(0, k):\n",
    "            arr[i] = tmp_arr[i]"
   ]
  },
  {
   "cell_type": "code",
   "execution_count": 20,
   "id": "9e46cc85",
   "metadata": {},
   "outputs": [
    {
     "name": "stdout",
     "output_type": "stream",
     "text": [
      "arr: [1, 2, 3, 4, 5, 6, 7]\tk: 2\tdirection:  RIGHT\tNew arr: [6, 7, 1, 2, 3, 4, 5]\n",
      "arr: [3, 7, 8, 9, 10, 11]\tk: 3\tdirection:  LEFT\tNew arr: [9, 10, 11, 3, 7, 8]\n"
     ]
    }
   ],
   "source": [
    "test_cases = [{'arr': [1,2,3,4,5,6,7], 'k': 2, 'direction': 'RIGHT'}, \n",
    "              {'arr': [3,7,8,9,10,11], 'k': 3, 'direction': 'LEFT'}]\n",
    "\n",
    "for tc in test_cases:\n",
    "    print(f\"arr: {tc['arr']}\\tk: {tc['k']}\\tdirection:  {tc['direction']}\\t\", end='')\n",
    "    rotate_BS(arr=tc['arr'], k=tc['k'], direction=tc['direction'])\n",
    "    print(f\"New arr: {tc['arr']}\")"
   ]
  },
  {
   "cell_type": "code",
   "execution_count": 21,
   "id": "da1b7620",
   "metadata": {},
   "outputs": [],
   "source": [
    "\"\"\"\n",
    "Optimal solution\n",
    "\n",
    "Time Complexity  : O( 2n )\n",
    "Space Complexity : O( 1 )\n",
    "\"\"\"\n",
    "def reverse_inplace(arr, i, j):\n",
    "    while i < j:\n",
    "        arr[i], arr[j] = arr[j], arr[i]\n",
    "        i += 1\n",
    "        j -= 1\n",
    "\n",
    "\n",
    "def rotate_OS(arr, k, direction):\n",
    "    n = len(arr)\n",
    "    k = k % n\n",
    "    \n",
    "    if direction == 'LEFT':\n",
    "        reverse_inplace(arr, 0, k-1)\n",
    "        reverse_inplace(arr, k, n-1)\n",
    "        reverse_inplace(arr, 0, n-1)\n",
    "    else:\n",
    "        reverse_inplace(arr, 0, n-k-1)\n",
    "        reverse_inplace(arr, n-k, n-1)\n",
    "        reverse_inplace(arr, 0, n-1)"
   ]
  },
  {
   "cell_type": "code",
   "execution_count": 22,
   "id": "c94111e2",
   "metadata": {},
   "outputs": [
    {
     "name": "stdout",
     "output_type": "stream",
     "text": [
      "arr: [1, 2, 3, 4, 5, 6, 7]\tk: 2\tdirection:  RIGHT\tNew arr: [6, 7, 1, 2, 3, 4, 5]\n",
      "arr: [3, 7, 8, 9, 10, 11]\tk: 3\tdirection:  LEFT\tNew arr: [9, 10, 11, 3, 7, 8]\n"
     ]
    }
   ],
   "source": [
    "test_cases = [{'arr': [1,2,3,4,5,6,7], 'k': 2, 'direction': 'RIGHT'}, \n",
    "              {'arr': [3,7,8,9,10,11], 'k': 3, 'direction': 'LEFT'}]\n",
    "\n",
    "for tc in test_cases:\n",
    "    print(f\"arr: {tc['arr']}\\tk: {tc['k']}\\tdirection:  {tc['direction']}\\t\", end='')\n",
    "    rotate_OS(arr=tc['arr'], k=tc['k'], direction=tc['direction'])\n",
    "    print(f\"New arr: {tc['arr']}\")"
   ]
  },
  {
   "cell_type": "markdown",
   "id": "0c60fbbf",
   "metadata": {},
   "source": [
    "<h3><a href='https://takeuforward.org/data-structure/count-maximum-consecutive-ones-in-the-array/'>Problem Statement 9: Count max consecutive 1’s in an array</a></h3>\n",
    "<p>Given an array that contains only 1's and 0's, return the count of maximum consecutive 1's in the array.</p>\n",
    "<pre>\n",
    "Example 1:\n",
    "Input: arr = [1, 1, 0, 1, 1, 1]\n",
    "Output: 3\n",
    "Explanation: There are 2 consecutive 1’s and 3 consecutive 1’s in the array out of which maximum is 3.\n",
    "\n",
    "Example 2:\n",
    "Input: arr = [1, 0, 1, 1, 0, 1]\n",
    "Output: \n",
    "Explanation: There are 2 consecutive 1's in the array. \n",
    "</pre>"
   ]
  },
  {
   "cell_type": "code",
   "execution_count": 23,
   "id": "7308909d",
   "metadata": {},
   "outputs": [],
   "source": [
    "\"\"\"\n",
    "Time Complexity  : O( n )\n",
    "Space Complexity : O( 1 )\n",
    "\"\"\"\n",
    "def find_max_consecutive_ones(arr):\n",
    "    n = len(arr)\n",
    "    one_count = 0\n",
    "    max_one_count = 0\n",
    "    \n",
    "    for i in range(0, n):\n",
    "        if arr[i] == 1:\n",
    "            one_count += 1\n",
    "        else:\n",
    "            one_count = 0\n",
    "        \n",
    "        max_one_count = max(one_count, max_one_count)\n",
    "    \n",
    "    return max_one_count"
   ]
  },
  {
   "cell_type": "code",
   "execution_count": 24,
   "id": "b59c36b6",
   "metadata": {},
   "outputs": [
    {
     "name": "stdout",
     "output_type": "stream",
     "text": [
      "arr: [1, 1, 0, 1, 1, 1] Max consecutive 1's: 3\n",
      "arr: [1, 0, 1, 1, 0, 1] Max consecutive 1's: 2\n"
     ]
    }
   ],
   "source": [
    "test_cases = [{'arr': [1,1,0,1,1,1]}, \n",
    "              {'arr': [1,0,1,1,0,1]}]\n",
    "\n",
    "for tc in test_cases:\n",
    "    print('arr:', tc['arr'], \"Max consecutive 1's:\", find_max_consecutive_ones(arr = tc['arr']))"
   ]
  },
  {
   "cell_type": "markdown",
   "id": "b9690d0d",
   "metadata": {},
   "source": [
    "<h3><a href='https://takeuforward.org/arrays/find-the-number-that-appears-once-and-the-other-numbers-twice/'>Problem Statement 10: Find the number that appears once, while others appear twice</a></h3>\n",
    "<p>Given a non-empty array of integers arr, every element appears twice except for one. Find that single one.</p>\n",
    "<pre>\n",
    "Example 1:\n",
    "Input Format: arr = [2,2,1]\n",
    "Result: 1\n",
    "Explanation: In this array, only the element 1 appear once and so it is the answer.\n",
    "\n",
    "Example 2:\n",
    "Input Format: arr = [4,1,2,1,2]\n",
    "Result: 4\n",
    "Explanation: In this array, only element 4 appear once and the other elements appear twice.\n",
    "</pre>"
   ]
  },
  {
   "cell_type": "code",
   "execution_count": 25,
   "id": "d019d262",
   "metadata": {},
   "outputs": [],
   "source": [
    "\"\"\"\n",
    "Better solution\n",
    "\n",
    "Time Complexity  : O( n + n/2 + 1 ) ~ O( n )\n",
    "Space Complexity : O( n/2 + 1 )     ~ O( n )\n",
    "\"\"\"\n",
    "def get_single_element_BS(arr):\n",
    "    n = len(arr)\n",
    "    freq_map = dict()\n",
    "    \n",
    "    for i in range(0, n):\n",
    "        freq_map[ arr[i] ] = freq_map.get(arr[i], 0) + 1\n",
    "    \n",
    "    for num, freq in freq_map.items():\n",
    "        if freq == 1:\n",
    "            return num\n",
    "    \n",
    "    return -1"
   ]
  },
  {
   "cell_type": "code",
   "execution_count": 26,
   "id": "e2c22ae1",
   "metadata": {},
   "outputs": [
    {
     "name": "stdout",
     "output_type": "stream",
     "text": [
      "arr: [2, 2, 1] \t\tNum that appears once: 1\n",
      "arr: [4, 1, 2, 1, 2] \tNum that appears once: 4\n"
     ]
    }
   ],
   "source": [
    "test_cases = [{'arr': [2,2,1]}, \n",
    "              {'arr': [4,1,2,1,2]}]\n",
    "\n",
    "\n",
    "print('arr:', test_cases[0]['arr'], \"\\t\\tNum that appears once:\", get_single_element_BS(arr = test_cases[0]['arr']))\n",
    "print('arr:', test_cases[1]['arr'], \"\\tNum that appears once:\", get_single_element_BS(arr = test_cases[1]['arr']))"
   ]
  },
  {
   "cell_type": "code",
   "execution_count": 27,
   "id": "d18e6b7b",
   "metadata": {},
   "outputs": [],
   "source": [
    "\"\"\"\n",
    "Optimal solution\n",
    "\n",
    "Note:\n",
    "    XOR Property 1: a ^ a = 0\n",
    "    XOR Property 2: 0 ^ a = a\n",
    "\n",
    "Time Complexity  : O( n )\n",
    "Space Complexity : O( 1 )\n",
    "\"\"\"\n",
    "def get_single_element_OS(arr):\n",
    "    n = len(arr)\n",
    "    result = 0\n",
    "    \n",
    "    for i in range(0, n):\n",
    "        result = result ^ arr[i]\n",
    "    \n",
    "    return result"
   ]
  },
  {
   "cell_type": "code",
   "execution_count": 28,
   "id": "05b9e9cc",
   "metadata": {},
   "outputs": [
    {
     "name": "stdout",
     "output_type": "stream",
     "text": [
      "arr: [2, 2, 1] \t\tNum that appears once: 1\n",
      "arr: [4, 1, 2, 1, 2] \tNum that appears once: 4\n"
     ]
    }
   ],
   "source": [
    "test_cases = [{'arr': [2,2,1]}, \n",
    "              {'arr': [4,1,2,1,2]}]\n",
    "\n",
    "\n",
    "print('arr:', test_cases[0]['arr'], \"\\t\\tNum that appears once:\", get_single_element_OS(arr = test_cases[0]['arr']))\n",
    "print('arr:', test_cases[1]['arr'], \"\\tNum that appears once:\", get_single_element_OS(arr = test_cases[1]['arr']))"
   ]
  },
  {
   "cell_type": "markdown",
   "id": "af068126",
   "metadata": {},
   "source": [
    "<h3><a href='https://takeuforward.org/arrays/find-the-missing-number-in-an-array/'>Problem Statement 11: Find the missing number in an array</a></h3>\n",
    "<p>Given an integer N and an array of size N-1 containing N-1 numbers between 1 to N. Find the number (between 1 to N), that is not present in the given array.</p>\n",
    "<pre>\n",
    "Example 1:\n",
    "Input Format: N = 5, arr = [1,2,4,5]\n",
    "Result: 3\n",
    "Explanation: In the given array, number 3 is missing. So, 3 is the answer.\n",
    "\n",
    "Example 2:\n",
    "Input Format: N = 3, arr = [1,3]\n",
    "Result: 2\n",
    "Explanation: In the given array, number 2 is missing. So, 2 is the answer.\n",
    "</pre>"
   ]
  },
  {
   "cell_type": "code",
   "execution_count": 29,
   "id": "9fb48f43",
   "metadata": {},
   "outputs": [],
   "source": [
    "\"\"\"\n",
    "Time Complexity  : O( n ) [For summing the array] \n",
    "Space Complexity : O( 1 )\n",
    "\"\"\"\n",
    "def missing_number(arr, n):\n",
    "    return (n*(n+1))//2 - sum(arr)"
   ]
  },
  {
   "cell_type": "code",
   "execution_count": 30,
   "id": "ac49bf47",
   "metadata": {},
   "outputs": [
    {
     "name": "stdout",
     "output_type": "stream",
     "text": [
      "arr: [1, 2, 4, 5] \tn: 5 \tMissing num: 3\n",
      "arr: [1, 3] \t\tn: 3 \tMissing num: 2\n"
     ]
    }
   ],
   "source": [
    "test_cases = [{'arr': [1,2,4,5], 'n': 5}, \n",
    "              {'arr': [1,3], 'n': 3}]\n",
    "\n",
    "arr = test_cases[0]['arr']\n",
    "n = test_cases[0]['n']\n",
    "print('arr:', arr, \"\\tn:\", n, \"\\tMissing num:\", missing_number(arr, n))\n",
    "\n",
    "arr = test_cases[1]['arr']\n",
    "n = test_cases[1]['n']\n",
    "print('arr:', arr, \"\\t\\tn:\", n, \"\\tMissing num:\", missing_number(arr, n))"
   ]
  },
  {
   "cell_type": "code",
   "execution_count": 31,
   "id": "68955f5b",
   "metadata": {},
   "outputs": [],
   "source": [
    "\"\"\"\n",
    "Note:\n",
    "    XOR Property 1: a ^ a = 0\n",
    "    XOR Property 2: 0 ^ a = a\n",
    "\n",
    "Time Complexity  : O( n )\n",
    "Space Complexity : O( 1 )\n",
    "\"\"\"\n",
    "def missing_number(arr, n):\n",
    "    xor1 = 0\n",
    "    xor2 = 0\n",
    "    \n",
    "    for i in range(0, n-1):\n",
    "        xor1 ^= arr[i]\n",
    "        xor2 ^= i+1\n",
    "    \n",
    "    xor2 ^= n\n",
    "    return xor1 ^ xor2"
   ]
  },
  {
   "cell_type": "code",
   "execution_count": 32,
   "id": "fb7d66f8",
   "metadata": {},
   "outputs": [
    {
     "name": "stdout",
     "output_type": "stream",
     "text": [
      "arr: [1, 2, 4, 5] \tn: 5 \tMissing num: 3\n",
      "arr: [1, 3] \t\tn: 3 \tMissing num: 2\n"
     ]
    }
   ],
   "source": [
    "test_cases = [{'arr': [1,2,4,5], 'n': 5}, \n",
    "              {'arr': [1,3], 'n': 3}]\n",
    "\n",
    "arr = test_cases[0]['arr']\n",
    "n = test_cases[0]['n']\n",
    "print('arr:', arr, \"\\tn:\", n, \"\\tMissing num:\", missing_number(arr, n))\n",
    "\n",
    "arr = test_cases[1]['arr']\n",
    "n = test_cases[1]['n']\n",
    "print('arr:', arr, \"\\t\\tn:\", n, \"\\tMissing num:\", missing_number(arr, n))"
   ]
  },
  {
   "cell_type": "markdown",
   "id": "3219282e",
   "metadata": {},
   "source": [
    "<h3><a href='https://takeuforward.org/data-structure/union-of-two-sorted-arrays/'>Problem Statement 12: Union of Two Sorted Arrays</a></h3>\n",
    "<p>Given two sorted arrays, arr1, and arr2 of size n and m. Find the union of two sorted arrays.<br/>\n",
    "<br/>\n",
    "<i><b>Note:</b> Elements in the union should be in ascending order.</i></p>\n",
    "<pre>\n",
    "Example 1:\n",
    "Input: arr1 = [1,2,3,4,5], arr2 = [2,3,4,4,5]\n",
    "Output: [1,2,3,4,5]\n",
    "\n",
    "Example 2:\n",
    "Input: arr1 = [1,2,3,4,5,6,7,8,9,10], arr2 = [2,3,4,4,5,11,12]\n",
    "Output: [1,2,3,4,5,6,7,8,9,10,11,12]\n",
    "</pre>"
   ]
  },
  {
   "cell_type": "code",
   "execution_count": 33,
   "id": "f4bf7da5",
   "metadata": {},
   "outputs": [],
   "source": [
    "\"\"\"\n",
    "Better solution\n",
    "\n",
    "Time Complexity  : O( 2(n+m) )\n",
    "Space Complexity : O( n+m )\n",
    "\"\"\"\n",
    "def find_union_BS(arr1, arr2):\n",
    "    result = set()\n",
    "    \n",
    "    for num in arr1:\n",
    "        result.add(num)\n",
    "    \n",
    "    for num in arr2:\n",
    "        result.add(num)\n",
    "    \n",
    "    #Set to list: O(N)\n",
    "    return list(result)"
   ]
  },
  {
   "cell_type": "code",
   "execution_count": 34,
   "id": "b5c8dd5c",
   "metadata": {},
   "outputs": [
    {
     "name": "stdout",
     "output_type": "stream",
     "text": [
      "arr1: [1, 2, 3, 4, 5] \t\t      arr2: [2, 3, 4, 4, 5] \t    Union: [1, 2, 3, 4, 5]\n",
      "arr1: [1, 2, 3, 4, 5, 6, 7, 8, 9, 10] arr2: [2, 3, 4, 4, 5, 11, 12] Union: [1, 2, 3, 4, 5, 6, 7, 8, 9, 10, 11, 12]\n"
     ]
    }
   ],
   "source": [
    "test_cases = [{'arr1': [1,2,3,4,5], 'arr2': [2,3,4,4,5]}, \n",
    "              {'arr1': [1,2,3,4,5,6,7,8,9,10], 'arr2': [2,3,4,4,5,11,12]}]\n",
    "\n",
    "arr1 = test_cases[0]['arr1']\n",
    "arr2 = test_cases[0]['arr2']\n",
    "print('arr1:', arr1, \"\\t\\t      arr2:\", arr2, \"\\t    Union:\", find_union_BS(arr1, arr2))\n",
    "\n",
    "arr1 = test_cases[1]['arr1']\n",
    "arr2 = test_cases[1]['arr2']\n",
    "print('arr1:', arr1, \"arr2:\", arr2, \"Union:\", find_union_BS(arr1, arr2))"
   ]
  },
  {
   "cell_type": "code",
   "execution_count": 35,
   "id": "6751862a",
   "metadata": {},
   "outputs": [],
   "source": [
    "\"\"\"\n",
    "Optimal solution\n",
    "\n",
    "Time Complexity  : O( n+m )\n",
    "Space Complexity : O( 1 )\n",
    "\"\"\"\n",
    "def find_union_OS(arr1, arr2):\n",
    "    i = j =0\n",
    "    n, m = len(arr1), len(arr2)\n",
    "    result = []\n",
    "    \n",
    "    while i < n and j < m:\n",
    "        if arr1[i] <= arr2[j]:\n",
    "            if len(result) == 0 or result[-1] != arr1[i]:\n",
    "                result.append( arr1[i] )\n",
    "            i += 1\n",
    "        else:\n",
    "            if len(result) == 0 or result[-1] != arr2[j]:\n",
    "                result.append( arr2[j] )\n",
    "            j += 1\n",
    "    \n",
    "    while i < n:\n",
    "        if len(result) == 0 or result[-1] != arr1[i]:\n",
    "            result.append( arr1[i] )\n",
    "        i += 1\n",
    "    \n",
    "    while j < m:\n",
    "        if len(result) == 0 or result[-1] != arr2[j]:\n",
    "            result.append( arr2[j] )\n",
    "        j += 1\n",
    "    \n",
    "    return result"
   ]
  },
  {
   "cell_type": "code",
   "execution_count": 36,
   "id": "3f1fe926",
   "metadata": {},
   "outputs": [
    {
     "name": "stdout",
     "output_type": "stream",
     "text": [
      "arr1: [1, 2, 3, 4, 5] \t\t      arr2: [2, 3, 4, 4, 5] \t    Union: [1, 2, 3, 4, 5]\n",
      "arr1: [1, 2, 3, 4, 5, 6, 7, 8, 9, 10] arr2: [2, 3, 4, 4, 5, 11, 12] Union: [1, 2, 3, 4, 5, 6, 7, 8, 9, 10, 11, 12]\n"
     ]
    }
   ],
   "source": [
    "test_cases = [{'arr1': [1,2,3,4,5], 'arr2': [2,3,4,4,5]}, \n",
    "              {'arr1': [1,2,3,4,5,6,7,8,9,10], 'arr2': [2,3,4,4,5,11,12]}]\n",
    "\n",
    "arr1 = test_cases[0]['arr1']\n",
    "arr2 = test_cases[0]['arr2']\n",
    "print('arr1:', arr1, \"\\t\\t      arr2:\", arr2, \"\\t    Union:\", find_union_OS(arr1, arr2))\n",
    "\n",
    "arr1 = test_cases[1]['arr1']\n",
    "arr2 = test_cases[1]['arr2']\n",
    "print('arr1:', arr1, \"arr2:\", arr2, \"Union:\", find_union_OS(arr1, arr2))"
   ]
  },
  {
   "cell_type": "markdown",
   "id": "443575a0",
   "metadata": {},
   "source": [
    "<h3><a href='https://takeuforward.org/data-structure/longest-subarray-with-given-sum-k/'>Problem Statement 13: Longest Subarray with sum K</a></h3>\n",
    "<p>Given an array and a sum k, we need to print the length of the longest subarray that sums to k.</p>\n",
    "<pre>\n",
    "Example 1:\n",
    "Input: arr = [2,3,5], k = 5\n",
    "Result: 2\n",
    "Explanation: The longest subarray with sum 5 is [2, 3]. And its length is 2.\n",
    "\n",
    "Example 2:\n",
    "Input: arr = [2,3,5,1,9], k = 10\n",
    "Result: 3\n",
    "Explanation: The longest subarray with sum 10 is [2, 3, 5]. And its length is 3.\n",
    "\n",
    "Example 3:\n",
    "Input: arr = [-1, 1, 1], k = 1\n",
    "Result: 3\n",
    "Explanation: The longest subarray with sum 1 is [-1, 1, 1]. And its length is 3.\n",
    "</pre>"
   ]
  },
  {
   "cell_type": "code",
   "execution_count": 37,
   "id": "ac60fd36",
   "metadata": {},
   "outputs": [],
   "source": [
    "\"\"\"\n",
    "Brute force solution\n",
    "\n",
    "Time Complexity  : O( n^2 )\n",
    "Space Complexity : O( 1 )\n",
    "\"\"\"\n",
    "def find_longest_subarr_len_BFS(arr, k):\n",
    "    n = len(arr)\n",
    "    longest_subarr_len = float('-inf')\n",
    "    \n",
    "    for i in range(0, n):\n",
    "        running_sum = 0\n",
    "        \n",
    "        for j in range(i, n):\n",
    "            running_sum += arr[j]\n",
    "            \n",
    "            if running_sum == k:\n",
    "                length = j - i + 1\n",
    "                longest_subarr_len = max(length, longest_subarr_len)\n",
    "    \n",
    "    return longest_subarr_len"
   ]
  },
  {
   "cell_type": "code",
   "execution_count": 38,
   "id": "e410495b",
   "metadata": {},
   "outputs": [
    {
     "name": "stdout",
     "output_type": "stream",
     "text": [
      "2\n",
      "3\n",
      "3\n",
      "3\n",
      "8\n"
     ]
    }
   ],
   "source": [
    "test_cases = [{'k': 5, 'arr': [2,3,5]}, \n",
    "              {'k': 10, 'arr': [2,3,5,1,9]},\n",
    "              {'k': 1, 'arr': [-1,1,1]},\n",
    "              {'k': 3, 'arr': [1,2,3,1,1,1,1,4,2,3]},\n",
    "              {'k': 0, 'arr': [1,2,-3,1,0,-4,1,4,0,1]}]\n",
    "\n",
    "for tc in test_cases:\n",
    "    arr = tc['arr']\n",
    "    k = tc['k']\n",
    "    print(find_longest_subarr_len_BFS(arr, k))"
   ]
  },
  {
   "cell_type": "code",
   "execution_count": 39,
   "id": "2716d9d9",
   "metadata": {},
   "outputs": [],
   "source": [
    "\"\"\"\n",
    "Better solution\n",
    "\n",
    "Note:\n",
    "    If arr has zero & +ev numbers, this is the better solution.\n",
    "    If arr has zero, +ev & -ev numbers, this is the optimal solution.\n",
    "\n",
    "Time Complexity  : O( n )\n",
    "Space Complexity : O( n )\n",
    "\"\"\"\n",
    "def find_longest_subarr_len_BS(arr, k):\n",
    "    n = len(arr)\n",
    "    \n",
    "    longest_subarr_len = float('-inf')\n",
    "    running_sum = 0\n",
    "    running_sum_map = dict()\n",
    "    \n",
    "    for i in range(0, n):\n",
    "        running_sum += arr[i]\n",
    "        \n",
    "        if running_sum == k:\n",
    "            length = i+1\n",
    "            longest_subarr_len = max(length, longest_subarr_len)\n",
    "        \n",
    "        remainder = running_sum - k\n",
    "        if remainder in running_sum_map:\n",
    "            length = i - running_sum_map[ remainder ]\n",
    "            longest_subarr_len = max(length, longest_subarr_len)\n",
    "        \n",
    "        if running_sum not in running_sum_map:\n",
    "            running_sum_map[ running_sum ] = i\n",
    "    \n",
    "    return longest_subarr_len"
   ]
  },
  {
   "cell_type": "code",
   "execution_count": 40,
   "id": "d43e13b0",
   "metadata": {},
   "outputs": [
    {
     "name": "stdout",
     "output_type": "stream",
     "text": [
      "2\n",
      "2\n",
      "3\n",
      "2\n",
      "3\n",
      "12\n",
      "6\n"
     ]
    }
   ],
   "source": [
    "test_cases = [{'k': 3, 'arr': [1,2,-3]},\n",
    "              {'k': 5, 'arr': [2,3,5]}, \n",
    "              {'k': 10, 'arr': [2,3,5,1,9]},\n",
    "              {'k': 0, 'arr': [-1,1,1]},\n",
    "              {'k': 3, 'arr': [1,2,3,1,1,1,1,4,2,3]},\n",
    "              {'k': 7, 'arr': [1,2,-3,1,0,-4,1,4,0,1,0,4,3]},\n",
    "              {'k': 0, 'arr': [-1,0,1,1,-1,-1,0]}]\n",
    "\n",
    "for tc in test_cases:\n",
    "    arr = tc['arr']\n",
    "    k = tc['k']\n",
    "    print(find_longest_subarr_len_BS(arr, k))"
   ]
  },
  {
   "cell_type": "code",
   "execution_count": 41,
   "id": "5ded5be6",
   "metadata": {},
   "outputs": [],
   "source": [
    "\"\"\"\n",
    "Optimal solution\n",
    "\n",
    "Note:\n",
    "    If arr has zero & +ev numbers, this is the optimal solution.\n",
    "\n",
    "Time Complexity  : O( 2n )\n",
    "Space Complexity : O( 1 )\n",
    "\"\"\"\n",
    "def find_longest_subarr_len_OS(arr, k):\n",
    "    n = len(arr)\n",
    "    \n",
    "    longest_subarr_len = float('-inf')\n",
    "    flexi_sum = arr[0]\n",
    "    i = j = 0\n",
    "    \n",
    "    while j < n:\n",
    "        while i <= j and flexi_sum > k:\n",
    "            flexi_sum -= arr[i]\n",
    "            i += 1\n",
    "        \n",
    "        if flexi_sum == k:\n",
    "            length = j - i + 1\n",
    "            longest_subarr_len = max(length, longest_subarr_len)\n",
    "        \n",
    "        j += 1\n",
    "        \n",
    "        if j < n:\n",
    "            flexi_sum += arr[j]\n",
    "    \n",
    "    return longest_subarr_len"
   ]
  },
  {
   "cell_type": "code",
   "execution_count": 42,
   "id": "1b41050a",
   "metadata": {},
   "outputs": [
    {
     "name": "stdout",
     "output_type": "stream",
     "text": [
      "3\n"
     ]
    }
   ],
   "source": [
    "test_cases = [#{'k': 0, 'arr': [-1,0,1,1,-1,-1,0]},\n",
    "              {'k': 3, 'arr': [1,2,3,1,1,1,1,4,2,3]}]\n",
    "\n",
    "for tc in test_cases:\n",
    "    arr = tc['arr']\n",
    "    k = tc['k']\n",
    "    print(find_longest_subarr_len_OS(arr, k))"
   ]
  },
  {
   "cell_type": "markdown",
   "id": "a6314dae",
   "metadata": {},
   "source": [
    "<h3><a href='https://takeuforward.org/arrays/count-subarray-sum-equals-k/'>Problem Statement 14: Count Subarray sum Equals K</a></h3>\n",
    "<p>Given an array of integers and an integer k, return the total number of subarrays whose sum equals k.<br/>\n",
    "<br/>\n",
    "<i><b>Note:<b/> A subarray is a contiguous non-empty sequence of elements within an array.<i/></p>\n",
    "<pre>\n",
    "Example 1:\n",
    "Input: arr = [3, 1, 2, 4], k = 6\n",
    "Output: 2\n",
    "Explanation: The subarrays that sum up to 6 are [3, 1, 2] and [2, 4].\n",
    "\n",
    "Example 2:\n",
    "Input: arr = [1,2,3], k = 3\n",
    "Output: 2\n",
    "Explanation: The subarrays that sum up to 3 are [1, 2], and [3].\n",
    "</pre>"
   ]
  },
  {
   "cell_type": "code",
   "execution_count": 43,
   "id": "56065b12",
   "metadata": {},
   "outputs": [],
   "source": [
    "\"\"\"\n",
    "Brute force solution\n",
    "\n",
    "Time Complexity  : O( n^2 )\n",
    "Space Complexity : O( 1 )\n",
    "\"\"\"\n",
    "def find_all_subarr_with_given_sum_BFS(arr, k):\n",
    "    n = len(arr)\n",
    "    subarr_counter = 0\n",
    "    \n",
    "    for i in range(0, n):\n",
    "        rsum = 0\n",
    "        \n",
    "        for j in range(i, n):\n",
    "            rsum += arr[j]\n",
    "            if rsum == k:\n",
    "                subarr_counter += 1\n",
    "    \n",
    "    return subarr_counter"
   ]
  },
  {
   "cell_type": "code",
   "execution_count": 44,
   "id": "6b49d5c6",
   "metadata": {},
   "outputs": [
    {
     "name": "stdout",
     "output_type": "stream",
     "text": [
      "8\n",
      "2\n",
      "2\n",
      "3\n",
      "5\n",
      "6\n"
     ]
    }
   ],
   "source": [
    "test_cases = [{'k': 3, 'arr': [1,2,3,-3,1,1,1,4,2,-3]},\n",
    "              {'k': 5, 'arr': [2,3,5]}, \n",
    "              {'k': 10, 'arr': [2,3,5,1,9]},\n",
    "              {'k': 1, 'arr': [-1,1,1]},\n",
    "              {'k': 3, 'arr': [1,2,3,1,1,1,1,4,2,3]},\n",
    "              {'k': 0, 'arr': [1,2,-3,1,0,-4,1,4,0,1]}]\n",
    "\n",
    "for tc in test_cases:\n",
    "    arr = tc['arr']\n",
    "    k = tc['k']\n",
    "    print(find_all_subarr_with_given_sum_BFS(arr, k))"
   ]
  },
  {
   "cell_type": "code",
   "execution_count": 45,
   "id": "20612738",
   "metadata": {},
   "outputs": [],
   "source": [
    "\"\"\"\n",
    "Optimal solution\n",
    "\n",
    "Note:\n",
    "    If arr has zero, +ev & -ev numbers, this is the optimal solution.\n",
    "\n",
    "Time Complexity  : O( n )\n",
    "Space Complexity : O( n )\n",
    "\"\"\"\n",
    "def find_all_subarr_with_given_sum_OS(arr, k):\n",
    "    n = len(arr)\n",
    "    rsum = 0\n",
    "    rsum_map = {0:1}\n",
    "    subarr_counter = 0\n",
    "    \n",
    "    for i in range(n):\n",
    "        rsum += arr[i]\n",
    "\n",
    "        rem = rsum - k\n",
    "\n",
    "        subarr_counter += rsum_map.get(rem, 0)\n",
    "        \n",
    "        rsum_map[ rsum ] = rsum_map.get(rsum, 0) + 1\n",
    "\n",
    "    return subarr_counter"
   ]
  },
  {
   "cell_type": "code",
   "execution_count": 46,
   "id": "546c95ef",
   "metadata": {},
   "outputs": [
    {
     "name": "stdout",
     "output_type": "stream",
     "text": [
      "8\n",
      "2\n",
      "2\n",
      "3\n",
      "5\n",
      "6\n"
     ]
    }
   ],
   "source": [
    "test_cases = [{'k': 3, 'arr': [1,2,3,-3,1,1,1,4,2,-3]},\n",
    "              {'k': 5, 'arr': [2,3,5]}, \n",
    "              {'k': 10, 'arr': [2,3,5,1,9]},\n",
    "              {'k': 1, 'arr': [-1,1,1]},\n",
    "              {'k': 3, 'arr': [1,2,3,1,1,1,1,4,2,3]},\n",
    "              {'k': 0, 'arr': [1,2,-3,1,0,-4,1,4,0,1]}]\n",
    "\n",
    "for tc in test_cases:\n",
    "    arr = tc['arr']\n",
    "    k = tc['k']\n",
    "    print(find_all_subarr_with_given_sum_OS(arr, k))"
   ]
  },
  {
   "cell_type": "markdown",
   "id": "a3c5ddac",
   "metadata": {},
   "source": [
    "<h3><a href='https://takeuforward.org/data-structure/kadanes-algorithm-maximum-subarray-sum-in-an-array/'>Problem Statement 15: Maximum Subarray Sum in an Array (Kadane’s Algorithm)</a></h3>\n",
    "<p>Given an integer array arr, find the contiguous subarray (containing at least one number) which\n",
    "has the largest sum and returns its sum and prints the subarray.</p>\n",
    "<pre>\n",
    "Example 1:\n",
    "Input: arr = [-2,1,-3,4,-1,2,1,-5,4] \n",
    "Output: 6 \n",
    "Explanation: [4,-1,2,1] has the largest sum = 6. \n",
    "\n",
    "Examples 2: \n",
    "Input: arr = [1] \n",
    "Output: 1 \n",
    "Explanation: Array has only one element and which is giving positive sum of 1. \n",
    "</pre>"
   ]
  },
  {
   "cell_type": "code",
   "execution_count": 47,
   "id": "294b872f",
   "metadata": {},
   "outputs": [],
   "source": [
    "\"\"\"\n",
    "Brute force solution\n",
    "\n",
    "Time Complexity  : O( n^2 )\n",
    "Space Complexity : O( 1 )\n",
    "\"\"\"\n",
    "def find_max_subarr_sum_BFS(arr):\n",
    "    n = len(arr)\n",
    "    max_subarr_sum = 0\n",
    "    \n",
    "    for i in range(0,n):\n",
    "        rsum = 0\n",
    "        \n",
    "        for j in range(i,n):\n",
    "            rsum += arr[j]\n",
    "            max_subarr_sum = max(rsum, max_subarr_sum)\n",
    "    \n",
    "    return max_subarr_sum"
   ]
  },
  {
   "cell_type": "code",
   "execution_count": 48,
   "id": "31cd7410",
   "metadata": {},
   "outputs": [
    {
     "name": "stdout",
     "output_type": "stream",
     "text": [
      "arr: [-2, 1, -3, 4, -1, 2, 1, -5, 4] \tMax sub arr sum: 6\n",
      "arr: [-2, -3, 4, -1, -2, 1, 5, -3] \tMax sub arr sum: 7\n",
      "arr: [1] \tMax sub arr sum: 1\n"
     ]
    }
   ],
   "source": [
    "test_cases = [{'arr': [-2,1,-3,4,-1,2,1,-5,4]},\n",
    "              {'arr': [-2,-3,4,-1,-2,1,5,-3]},\n",
    "              {'arr': [1]}]\n",
    "\n",
    "for tc in test_cases:\n",
    "    arr = tc['arr']\n",
    "    print('arr:', arr, '\\tMax sub arr sum:', find_max_subarr_sum_BFS(arr))"
   ]
  },
  {
   "cell_type": "code",
   "execution_count": 49,
   "id": "9d6fada9",
   "metadata": {},
   "outputs": [],
   "source": [
    "\"\"\"\n",
    "Optimal solution (Kadane's Algorithm)\n",
    "\n",
    "Time Complexity  : O( n )\n",
    "Space Complexity : O( 1 )\n",
    "\"\"\"\n",
    "def find_max_subarr_sum_OS(arr):\n",
    "    n = len(arr)\n",
    "    max_subarr_sum = curr_sum = arr[0]\n",
    "    \n",
    "    for i in range(1, n):\n",
    "        curr_sum = max(arr[i], curr_sum + arr[i])\n",
    "        \n",
    "        max_subarr_sum = max(curr_sum, max_subarr_sum)\n",
    "    \n",
    "    return max_subarr_sum"
   ]
  },
  {
   "cell_type": "code",
   "execution_count": 50,
   "id": "4e4de1b2",
   "metadata": {},
   "outputs": [
    {
     "name": "stdout",
     "output_type": "stream",
     "text": [
      "arr: [-2, 1, -3, 4, -1, 2, 1, -5, 4] \tMax sub arr sum: 6\n",
      "arr: [-2, -3, 4, -1, -2, 1, 5, -3] \tMax sub arr sum: 7\n",
      "arr: [1] \tMax sub arr sum: 1\n"
     ]
    }
   ],
   "source": [
    "test_cases = [{'arr': [-2,1,-3,4,-1,2,1,-5,4]},\n",
    "              {'arr': [-2,-3,4,-1,-2,1,5,-3]},\n",
    "              {'arr': [1]}]\n",
    "\n",
    "for tc in test_cases:\n",
    "    arr = tc['arr']\n",
    "    print('arr:', arr, '\\tMax sub arr sum:', find_max_subarr_sum_OS(arr))"
   ]
  },
  {
   "cell_type": "code",
   "execution_count": 51,
   "id": "3eb046c8",
   "metadata": {},
   "outputs": [],
   "source": [
    "\"\"\"\n",
    "Optimal solution (Kadane's Algorithm)\n",
    "\n",
    "Time Complexity  : O( n )\n",
    "Space Complexity : O( 1 )\n",
    "\"\"\"\n",
    "def find_max_subarr_sum_OS2(arr):\n",
    "    n = len(arr)\n",
    "    \n",
    "    curr_sum = arr[0]\n",
    "    curr_sidx = curr_eidx = 0\n",
    "    \n",
    "    max_subarr_sum = arr[0]\n",
    "    max_subarr_sidx = max_subarr_eidx = 0\n",
    "    \n",
    "    for i in range(1, n):\n",
    "        if arr[i] > curr_sum + arr[i]:\n",
    "            curr_sum = arr[i]\n",
    "            curr_sidx = curr_eidx = i\n",
    "        else:\n",
    "            curr_sum = curr_sum + arr[i]\n",
    "            curr_eidx = i\n",
    "        \n",
    "        if curr_sum > max_subarr_sum:\n",
    "            max_subarr_sum = curr_sum\n",
    "            \n",
    "            max_subarr_sidx = curr_sidx\n",
    "            max_subarr_eidx = curr_eidx\n",
    "    \n",
    "    return max_subarr_sum, arr[max_subarr_sidx : max_subarr_eidx + 1]"
   ]
  },
  {
   "cell_type": "code",
   "execution_count": 52,
   "id": "b7340992",
   "metadata": {},
   "outputs": [
    {
     "name": "stdout",
     "output_type": "stream",
     "text": [
      "arr: [-2, 1, -3, 4, -1, 2, 1, -5, 4] \tMax sub arr: 6 [4, -1, 2, 1]\n",
      "arr: [-2, -3, 4, -1, -2, 1, 5, -3] \tMax sub arr: 7 [4, -1, -2, 1, 5]\n",
      "arr: [1] \tMax sub arr: 1 [1]\n"
     ]
    }
   ],
   "source": [
    "test_cases = [{'arr': [-2,1,-3,4,-1,2,1,-5,4]},\n",
    "              {'arr': [-2,-3,4,-1,-2,1,5,-3]},\n",
    "              {'arr': [1]}]\n",
    "\n",
    "for tc in test_cases:\n",
    "    arr = tc['arr']\n",
    "    print('arr:', arr, '\\tMax sub arr:', *find_max_subarr_sum_OS2(arr))"
   ]
  },
  {
   "cell_type": "markdown",
   "id": "612b01fc",
   "metadata": {},
   "source": [
    "<h3><a href='https://takeuforward.org/data-structure/two-sum-check-if-a-pair-with-given-sum-exists-in-array/'>Problem Statement 16: Two Sum - Check if a pair with given sum exists in Array</a></h3>\n",
    "<p>Given an array of integers and an integer target.\n",
    "<ul>\n",
    "    <li><b>1st variant:</b> Return YES if there exist two numbers such that their sum is equal to the target. Otherwise, return NO.</li>\n",
    "    <li><b>2nd variant:</b> Return indices of the two numbers such that their sum is equal to the target. Otherwise, we will return {-1, -1}.</li>\n",
    "</ul>\n",
    "<i><b>Note:</b> You are not allowed to use the same element twice. Example: If the target is equal to 6 and num[1] = 3, then nums[1] + nums[1] = target is not a solution.</i></p>\n",
    "<pre>\n",
    "Example 1:\n",
    "Input:  arr = [2,6,5,8,11], target = 14\n",
    "Output: YES    (for 1st variant)\n",
    "        [1, 3] (for 2nd variant)\n",
    "\n",
    "Example 2:\n",
    "Input:  arr = [2,6,5,8,11], target = 15\n",
    "Result: NO       (for 1st variant)\n",
    "        [-1, -1] (for 2nd variant)\n",
    "</pre>"
   ]
  },
  {
   "cell_type": "code",
   "execution_count": 53,
   "id": "e256da20",
   "metadata": {},
   "outputs": [],
   "source": [
    "\"\"\"\n",
    "Better solution\n",
    "\n",
    "Time Complexity  : O( n )\n",
    "Space Complexity : O( n )\n",
    "\"\"\"\n",
    "\n",
    "def two_sum_BS(arr, target):\n",
    "    n = len(arr)\n",
    "    hashmap = dict()\n",
    "    \n",
    "    for i in range(0, n):\n",
    "        rem = target - arr[i]\n",
    "        if rem in hashmap:\n",
    "            return hashmap[ rem ], i\n",
    "        \n",
    "        hashmap[ arr[i] ] = i\n",
    "    \n",
    "    return -1, -1"
   ]
  },
  {
   "cell_type": "code",
   "execution_count": 54,
   "id": "49abc2bd",
   "metadata": {},
   "outputs": [
    {
     "name": "stdout",
     "output_type": "stream",
     "text": [
      "arr: [2, 6, 5, 8, 11] target: 14 2 Sum: (1, 3)\n",
      "arr: [2, 6, 5, 8, 11] target: 15 2 Sum: (-1, -1)\n"
     ]
    }
   ],
   "source": [
    "test_cases = [{'arr': [2,6,5,8,11], 'target': 14},\n",
    "              {'arr': [2,6,5,8,11], 'target': 15}]\n",
    "\n",
    "for tc in test_cases:\n",
    "    arr = tc['arr']\n",
    "    target = tc['target']\n",
    "    print('arr:', arr, 'target:', target, '2 Sum:', two_sum_BS(arr, target))"
   ]
  },
  {
   "cell_type": "code",
   "execution_count": 55,
   "id": "7dd0278f",
   "metadata": {},
   "outputs": [],
   "source": [
    "\"\"\"\n",
    "Optimal (space) solution\n",
    "\n",
    "Time Complexity  : O( n log n )\n",
    "Space Complexity : O( 1 )\n",
    "\"\"\"\n",
    "\n",
    "def two_sum_OS(arr, target):\n",
    "    arr = sorted(enumerate(arr), key = lambda x: x[1])\n",
    "    \n",
    "    n = len(arr)\n",
    "    i, j = 0, n-1\n",
    "    \n",
    "    while i < j:\n",
    "        if arr[i][1] + arr[j][1] == target:\n",
    "            return arr[i][0], arr[j][0]\n",
    "        elif arr[i][1] + arr[j][1] < target:\n",
    "            i += 1\n",
    "        else:\n",
    "            j -= 1\n",
    "    \n",
    "    return (-1, -1)"
   ]
  },
  {
   "cell_type": "code",
   "execution_count": 56,
   "id": "7bac01e6",
   "metadata": {},
   "outputs": [
    {
     "name": "stdout",
     "output_type": "stream",
     "text": [
      "arr: [2, 6, 5, 8, 11] target: 14 2 Sum: (1, 3)\n",
      "arr: [2, 6, 5, 8, 11] target: 15 2 Sum: (-1, -1)\n"
     ]
    }
   ],
   "source": [
    "test_cases = [{'arr': [2,6,5,8,11], 'target': 14},\n",
    "              {'arr': [2,6,5,8,11], 'target': 15}]\n",
    "\n",
    "for tc in test_cases:\n",
    "    arr = tc['arr']\n",
    "    target = tc['target']\n",
    "    print('arr:', arr, 'target:', target, '2 Sum:', two_sum_OS(arr, target))"
   ]
  },
  {
   "cell_type": "markdown",
   "id": "e94b9973",
   "metadata": {},
   "source": [
    "<h3><a href='https://takeuforward.org/data-structure/stock-buy-and-sell/'>Problem Statement 17: Buy And Sell Stocks</a></h3>\n",
    "<p>You are given an array of prices where prices[i] is the price of a given stock on an ith day. You want to maximize your profit by choosing a single day to buy one stock and choosing a different day in the future to sell that stock. Return the maximum profit you can achieve from this transaction. If you cannot achieve any profit, return 0.</p>\n",
    "<pre>\n",
    "Example 1:\n",
    "Input: prices = [7,1,5,3,6,4]\n",
    "Output: 5\n",
    "Explanation: Buy on day 2 (price = 1) and sell on day 5 (price = 6), profit = 6-1 = 5.\n",
    "Note: That buying on day 2 and selling on day 1 is not allowed because you must buy before you sell.\n",
    "\n",
    "Example 2:\n",
    "Input: prices = [7,6,4,3,1]\n",
    "Output: 0\n",
    "Explanation: In this case, no transactions are done and the max profit = 0.\n",
    "</pre>"
   ]
  },
  {
   "cell_type": "code",
   "execution_count": 57,
   "id": "440ddfb5",
   "metadata": {},
   "outputs": [],
   "source": [
    "\"\"\"\n",
    "Time Complexity  : O( n )\n",
    "Space Complexity : O( 1 ) \n",
    "\"\"\"\n",
    "def find_max_profit(arr):\n",
    "    n = len(arr)\n",
    "    min_price = float('inf')\n",
    "    max_profit = float('-inf')\n",
    "    \n",
    "    for i in range(0,n):\n",
    "        min_price = min(arr[i], min_price)\n",
    "        max_profit = max(arr[i] - min_price, max_profit)\n",
    "    \n",
    "    return max_profit"
   ]
  },
  {
   "cell_type": "code",
   "execution_count": 58,
   "id": "c9a1c813",
   "metadata": {},
   "outputs": [
    {
     "name": "stdout",
     "output_type": "stream",
     "text": [
      "arr: [7, 1, 5, 3, 6, 4] Max profit: 5\n",
      "arr: [7, 6, 4, 3, 1] Max profit: 0\n"
     ]
    }
   ],
   "source": [
    "test_cases = [{'arr': [7,1,5,3,6,4]},\n",
    "              {'arr': [7,6,4,3,1]}]\n",
    "\n",
    "for tc in test_cases:\n",
    "    arr = tc['arr']\n",
    "    print('arr:', arr, 'Max profit:', find_max_profit(arr))"
   ]
  },
  {
   "cell_type": "markdown",
   "id": "2004d762",
   "metadata": {},
   "source": [
    "<h3><a href='https://takeuforward.org/data-structure/leaders-in-an-array/'>Problem Statement 18: Leaders in an Array</a></h3>\n",
    "<p>Given an array, print all the elements which are leaders. A Leader is an element that is greater than all of the elements on its right side in the array.</p>\n",
    "<pre>\n",
    "Example 1:\n",
    "Input: arr = [4, 7, 1, 0]\n",
    "Output: [7, 1, 0]\n",
    "Explanation: Rightmost element is always a leader. 7 and 1 are greater than the elements in their right side.\n",
    "\n",
    "Example 2:\n",
    "Input: arr = [10, 22, 12, 3, 0, 6]\n",
    "Output: [22, 12, 6]\n",
    "Explanation: 6 is a leader. In addition to that, 12 is greater than all the elements in its right side (3, 0, 6), also 22 is greater than 12, 3, 0, 6.\n",
    "</pre>"
   ]
  },
  {
   "cell_type": "code",
   "execution_count": 59,
   "id": "e1f63a37",
   "metadata": {},
   "outputs": [],
   "source": [
    "\"\"\"\n",
    "Time Complexity  : O( 2n )\n",
    "Space Complexity : O( 1 ) \n",
    "\"\"\"\n",
    "def find_leaders(arr):\n",
    "    n = len(arr)\n",
    "    maxi = float('-inf')\n",
    "    leaders = []\n",
    "    \n",
    "    for i in range(n-1, -1, -1):\n",
    "        if arr[i] > maxi:\n",
    "            leaders.append(arr[i])\n",
    "            maxi = arr[i]\n",
    "    \n",
    "    inplace_reverse(leaders)\n",
    "    \n",
    "    return leaders"
   ]
  },
  {
   "cell_type": "code",
   "execution_count": 60,
   "id": "0e03b679",
   "metadata": {},
   "outputs": [
    {
     "name": "stdout",
     "output_type": "stream",
     "text": [
      "arr: [4, 7, 1, 0] Leaders: [7, 1, 0]\n",
      "arr: [10, 22, 12, 3, 0, 6] Leaders: [22, 12, 6]\n"
     ]
    }
   ],
   "source": [
    "test_cases = [{'arr': [4, 7, 1, 0]},\n",
    "              {'arr': [10, 22, 12, 3, 0, 6]}]\n",
    "\n",
    "for tc in test_cases:\n",
    "    arr = tc['arr']\n",
    "    print('arr:', arr, 'Leaders:', find_leaders(arr))"
   ]
  },
  {
   "cell_type": "markdown",
   "id": "0568f461",
   "metadata": {},
   "source": [
    "<h3><a href='https://takeuforward.org/data-structure/find-the-majority-element-that-occurs-more-than-n-2-times/'>Problem Statement 19: Find the Majority Element (Moore's Voting Algorithm)</a></h3>\n",
    "<p>Given an array of N integers, write a program to return an element that occurs more than N/2 times (majority element) in the given array. Return -1 if no such element exists in the array.</p>\n",
    "<pre>\n",
    "Example 1:\n",
    "Input: arr = [3,2,3]\n",
    "Output: 3\n",
    "\n",
    "Example 2:\n",
    "Input:  arr = [2,2,1,1,1,2,2]\n",
    "Output: 2\n",
    "\n",
    "Example 3:\n",
    "Input:  arr = [4,4,2,4,3,4,4,3,2,4]\n",
    "Output: 4\n",
    "</pre>"
   ]
  },
  {
   "cell_type": "code",
   "execution_count": 61,
   "id": "1e01f0cf",
   "metadata": {},
   "outputs": [],
   "source": [
    "\"\"\"\n",
    "Brute force solution\n",
    "\n",
    "Time Complexity  : O( n log n )\n",
    "Space Complexity : O( 1 ) \n",
    "\"\"\"\n",
    "def find_majority_element_BFS(arr):\n",
    "    arr.sort()\n",
    "    \n",
    "    n = len(arr)\n",
    "    candidate = arr[n//2]\n",
    "    counter = 0\n",
    "    \n",
    "    for i in range(0, n):\n",
    "        if arr[i] == candidate:\n",
    "            counter += 1\n",
    "    \n",
    "    return candidate if counter > n//2 else -1"
   ]
  },
  {
   "cell_type": "code",
   "execution_count": 62,
   "id": "769cce05",
   "metadata": {},
   "outputs": [
    {
     "name": "stdout",
     "output_type": "stream",
     "text": [
      "arr: [2, 3, 3] Majority element: 3\n",
      "arr: [1, 1, 1, 2, 2, 2, 2] Majority element: 2\n",
      "arr: [2, 2, 3, 3, 4, 4, 4, 4, 4, 4] Majority element: 4\n"
     ]
    }
   ],
   "source": [
    "test_cases = [{'arr': [3,2,3]},\n",
    "              {'arr': [2,2,1,1,1,2,2]},\n",
    "              {'arr': [4,4,2,4,3,4,4,3,2,4]}]\n",
    "\n",
    "for tc in test_cases:\n",
    "    arr = tc['arr']\n",
    "    print('arr:', arr, 'Majority element:', find_majority_element_BFS(arr))"
   ]
  },
  {
   "cell_type": "code",
   "execution_count": 63,
   "id": "6e338ef5",
   "metadata": {},
   "outputs": [],
   "source": [
    "\"\"\"\n",
    "Better solution\n",
    "\n",
    "Time Complexity  : O( 2n )\n",
    "Space Complexity : O( n ) \n",
    "\"\"\"\n",
    "def find_majority_element_BS(arr):\n",
    "    n = len(arr)\n",
    "    hashmap = dict()\n",
    "    \n",
    "    for i in range(0,n):\n",
    "        hashmap[ arr[i] ] = hashmap.get(arr[i], 0) + 1\n",
    "    \n",
    "    for n, f in hashmap.items():\n",
    "        if f > n//2:\n",
    "            return n\n",
    "    \n",
    "    return -1"
   ]
  },
  {
   "cell_type": "code",
   "execution_count": 64,
   "id": "75b6a4cb",
   "metadata": {},
   "outputs": [
    {
     "name": "stdout",
     "output_type": "stream",
     "text": [
      "arr: [3, 2, 3] Majority element: 3\n",
      "arr: [2, 2, 1, 1, 1, 2, 2] Majority element: 2\n",
      "arr: [4, 4, 2, 4, 3, 4, 4, 3, 2, 4] Majority element: 4\n"
     ]
    }
   ],
   "source": [
    "test_cases = [{'arr': [3,2,3]},\n",
    "              {'arr': [2,2,1,1,1,2,2]},\n",
    "              {'arr': [4,4,2,4,3,4,4,3,2,4]}]\n",
    "\n",
    "for tc in test_cases:\n",
    "    arr = tc['arr']\n",
    "    print('arr:', arr, 'Majority element:', find_majority_element_BS(arr))"
   ]
  },
  {
   "cell_type": "code",
   "execution_count": 65,
   "id": "221b1242",
   "metadata": {},
   "outputs": [],
   "source": [
    "\"\"\"\n",
    "Optimal solution (Moore's Voting Algorithm)\n",
    "\n",
    "Time Complexity  : O( 2n )\n",
    "Space Complexity : O( 1 ) \n",
    "\"\"\"\n",
    "def find_majority_element_OS(arr):\n",
    "    n = len(arr)\n",
    "    \n",
    "    candidate = arr[0]\n",
    "    count = 1\n",
    "    \n",
    "    for i in range(1,n):\n",
    "        if arr[i] == candidate:\n",
    "            count += 1\n",
    "        else:\n",
    "            count -= 1\n",
    "        \n",
    "        if count == 0:\n",
    "            candidate = arr[i]\n",
    "            count = 1\n",
    "    \n",
    "    count = 0\n",
    "    for i in range(0,n):\n",
    "        if arr[i] == candidate:\n",
    "            count += 1\n",
    "            \n",
    "    return candidate if count > n//2 else -1"
   ]
  },
  {
   "cell_type": "code",
   "execution_count": 66,
   "id": "c465417e",
   "metadata": {},
   "outputs": [
    {
     "name": "stdout",
     "output_type": "stream",
     "text": [
      "arr: [3, 2, 3] Majority element: 3\n",
      "arr: [2, 2, 1, 1, 1, 2, 2] Majority element: 2\n",
      "arr: [4, 4, 2, 4, 3, 4, 4, 3, 2, 4] Majority element: 4\n"
     ]
    }
   ],
   "source": [
    "test_cases = [{'arr': [3,2,3]},\n",
    "              {'arr': [2,2,1,1,1,2,2]},\n",
    "              {'arr': [4,4,2,4,3,4,4,3,2,4]}]\n",
    "\n",
    "for tc in test_cases:\n",
    "    arr = tc['arr']\n",
    "    print('arr:', arr, 'Majority element:', find_majority_element_OS(arr))"
   ]
  },
  {
   "cell_type": "markdown",
   "id": "d8813a08",
   "metadata": {},
   "source": [
    "<h3><a href='https://takeuforward.org/data-structure/sort-an-array-of-0s-1s-and-2s/'>Problem Statement 20: Sort an array of 0s, 1s and 2s (Dutch National Flag Sorting Algorithm)</a></h3>\n",
    "<p>Given an array consisting of only 0s, 1s, and 2s. Write a program to in-place sort the array without using inbuilt sort functions. (Expected: Single pass-O(N) and constant space)</p>\n",
    "<pre>\n",
    "Input: nums = [2,0,2,1,1,0]\n",
    "Output: [0,0,1,1,2,2]\n",
    "\n",
    "Input: nums = [2,0,1]\n",
    "Output: [0,1,2]\n",
    "\n",
    "Input: nums = [0]\n",
    "Output: [0]\n",
    "</pre>"
   ]
  },
  {
   "cell_type": "code",
   "execution_count": 67,
   "id": "cb410a65",
   "metadata": {},
   "outputs": [],
   "source": [
    "\"\"\"\n",
    "Note:\n",
    "    [1] if mid = 0, swap(low, mid); low ++; mid ++\n",
    "    [2] if mid = 1, mid ++\n",
    "    [3] if mid = 2, swap(high, mid); high--\n",
    "\n",
    "Time Complexity  : O( n )\n",
    "Space Complexity : O( 1 ) \n",
    "\"\"\"\n",
    "def dnf_sort(arr):\n",
    "    n = len(arr)\n",
    "    low = 0\n",
    "    mid = 0\n",
    "    high = n-1\n",
    "    \n",
    "    while mid <= high:\n",
    "        if arr[ mid ] == 0:\n",
    "            arr[ low ], arr[ mid ] = arr[ mid ], arr[ low ]\n",
    "            mid += 1\n",
    "            low += 1\n",
    "        elif arr[ mid ] == 1:\n",
    "            mid += 1\n",
    "        else:\n",
    "            arr[ mid ], arr[ high ] = arr[ high ], arr[ mid ]\n",
    "            high -= 1"
   ]
  },
  {
   "cell_type": "code",
   "execution_count": 68,
   "id": "496755a0",
   "metadata": {},
   "outputs": [
    {
     "name": "stdout",
     "output_type": "stream",
     "text": [
      "arr: [0, 0, 1, 1, 2, 2]\n",
      "arr: [0, 1, 2]\n",
      "arr: [0]\n",
      "arr: [0, 0, 0, 1, 1, 1, 1, 2, 2, 2]\n"
     ]
    }
   ],
   "source": [
    "test_cases = [{'arr': [2,0,2,1,1,0]},\n",
    "              {'arr': [2,0,1]},\n",
    "              {'arr': [0]},\n",
    "              {'arr': [1,1,2,0,0,1,2,2,1,0]}]\n",
    "\n",
    "for tc in test_cases:\n",
    "    arr = tc['arr']\n",
    "    dnf_sort(arr)\n",
    "    print('arr:', arr)"
   ]
  },
  {
   "cell_type": "markdown",
   "id": "564295f7",
   "metadata": {},
   "source": [
    "<h3><a href='https://takeuforward.org/arrays/rearrange-array-elements-by-sign/'>Problem Statement 21: Rearrange Array Elements by Sign</a></h3>\n",
    "<p>There’s an array ‘A’ of size ‘N’ with an equal number of positive and negative elements. Without altering the relative order of positive and negative elements, you must return an array of alternately positive and negative values.<br/>\n",
    "<br/>\n",
    "<i><b>Note:</b> Start the array with positive elements.</i></p>\n",
    "<pre>\n",
    "Example 1:\n",
    "Input: arr = [1,2,-4,-5]\n",
    "Output: [1, -4, 2, -5]\n",
    "\n",
    "Example 2:\n",
    "Input: arr = [1,2,-3,-1,-2,3]\n",
    "Output: [1, -3, 2, -1, 3, -2]\n",
    "</pre>"
   ]
  },
  {
   "cell_type": "code",
   "execution_count": 69,
   "id": "07d6616c",
   "metadata": {},
   "outputs": [],
   "source": [
    "\"\"\"\n",
    "Time Complexity  : O( n )\n",
    "Space Complexity : O( 1 ) \n",
    "\"\"\"\n",
    "def rearrange_by_sign(arr):\n",
    "    n = len(arr)\n",
    "    \n",
    "    pos_idx, neg_idx = 0, 1\n",
    "    result = [0] * n\n",
    "    \n",
    "    for i in range(0,n):\n",
    "        if arr[i] >= 0:\n",
    "            result[pos_idx] = arr[i]\n",
    "            pos_idx += 2\n",
    "        else:\n",
    "            result[neg_idx] = arr[i]\n",
    "            neg_idx += 2\n",
    "    \n",
    "    return result"
   ]
  },
  {
   "cell_type": "code",
   "execution_count": 70,
   "id": "0170d26c",
   "metadata": {},
   "outputs": [
    {
     "name": "stdout",
     "output_type": "stream",
     "text": [
      "arr: [1, 2, -4, -5] Re-arranged arr: [1, -4, 2, -5]\n",
      "arr: [1, 2, -3, -1, -2, 3] Re-arranged arr: [1, -3, 2, -1, 3, -2]\n"
     ]
    }
   ],
   "source": [
    "test_cases = [{'arr': [1,2,-4,-5]},\n",
    "              {'arr': [1,2,-3,-1,-2,3]}]\n",
    "\n",
    "for tc in test_cases:\n",
    "    arr = tc['arr']\n",
    "    print('arr:', arr, 'Re-arranged arr:', rearrange_by_sign(arr))"
   ]
  },
  {
   "cell_type": "markdown",
   "id": "0578afbc",
   "metadata": {},
   "source": [
    "<h3><a href='https://takeuforward.org/data-structure/longest-consecutive-sequence-in-an-array/'>Problem Statement 22: Longest Consecutive Sequence in an Array</a></h3>\n",
    "<p>You are given an array of ‘N’ integers. You need to find the length of the longest sequence which contains the consecutive elements.</p>\n",
    "<pre>\n",
    "Example 1:\n",
    "Input: [100, 200, 1, 3, 2, 4]\n",
    "Output: 4\n",
    "Explanation: The longest consecutive subsequence is 1, 2, 3, and 4.\n",
    "\n",
    "Example 2:\n",
    "Input: [3, 8, 5, 7, 6]\n",
    "Output: 4\n",
    "Explanation: The longest consecutive subsequence is 5, 6, 7, and 8.\n",
    "</pre>"
   ]
  },
  {
   "cell_type": "code",
   "execution_count": 71,
   "id": "b046296a",
   "metadata": {},
   "outputs": [],
   "source": [
    "\"\"\"\n",
    "Optimal Solution\n",
    "\n",
    "Time Complexity  : O( n log n ) + O( n )\n",
    "Space Complexity : O( 1 ) \n",
    "\"\"\"\n",
    "def longest_successive_elements_OS1(arr):\n",
    "    arr.sort()\n",
    "    \n",
    "    n = len(arr)\n",
    "    last_smallest = float('-inf')\n",
    "    counter = longest = 0\n",
    "    \n",
    "    for i in range(0, n):\n",
    "        if (arr[i] - 1) == last_smallest:\n",
    "            counter += 1\n",
    "            last_smallest = arr[i]\n",
    "        elif arr[i] != last_smallest:\n",
    "            counter = 1\n",
    "            last_smallest = arr[i]\n",
    "        \n",
    "        longest = max(counter, longest)\n",
    "    \n",
    "    return longest"
   ]
  },
  {
   "cell_type": "code",
   "execution_count": 72,
   "id": "cc18e5d2",
   "metadata": {},
   "outputs": [
    {
     "name": "stdout",
     "output_type": "stream",
     "text": [
      "arr: [1, 2, 3, 4, 100, 200] Longest successive elements count: 4\n",
      "arr: [3, 5, 6, 7, 8] Longest successive elements count: 4\n",
      "arr: [1, 1, 1, 2, 3, 4, 100, 101, 102] Longest successive elements count: 4\n",
      "arr: [1, 1, 1, 2, 2, 2, 3, 3, 4, 100, 100, 101, 101, 102] Longest successive elements count: 4\n"
     ]
    }
   ],
   "source": [
    "test_cases = [{'arr': [100,200,1,3,2,4]},\n",
    "              {'arr': [3,8,5,7,6]},\n",
    "              {'arr': [102,4,100,1,101,3,2,1,1]},\n",
    "              {'arr': [100,102,100,101,101,4,3,2,3,2,1,1,1,2]}]\n",
    "\n",
    "for tc in test_cases:\n",
    "    arr = tc['arr']\n",
    "    print('arr:', arr, 'Longest successive elements count:', longest_successive_elements_OS1(arr))"
   ]
  },
  {
   "cell_type": "code",
   "execution_count": 73,
   "id": "769b7012",
   "metadata": {},
   "outputs": [],
   "source": [
    "\"\"\"\n",
    "Optimal Solution\n",
    "\n",
    "Time Complexity  : O( 3n )\n",
    "Space Complexity : O( n ) \n",
    "\"\"\"\n",
    "def longest_successive_elements_OS2(arr):\n",
    "    n = len(arr)\n",
    "    \n",
    "    unique_arr = set()\n",
    "    for num in arr:\n",
    "        unique_arr.add(num)\n",
    "    \n",
    "    longest = 0\n",
    "    for num in unique_arr:\n",
    "        if (num - 1) not in unique_arr:\n",
    "            tmp = num\n",
    "            counter = 1\n",
    "            \n",
    "            while tmp+1 in unique_arr:\n",
    "                counter += 1\n",
    "                tmp += 1\n",
    "            \n",
    "            longest = max(counter, longest)\n",
    "    \n",
    "    return longest"
   ]
  },
  {
   "cell_type": "code",
   "execution_count": 74,
   "id": "b3b13cc1",
   "metadata": {},
   "outputs": [
    {
     "name": "stdout",
     "output_type": "stream",
     "text": [
      "arr: [100, 200, 1, 3, 2, 4] Longest successive elements count: 4\n",
      "arr: [3, 8, 5, 7, 6] Longest successive elements count: 4\n",
      "arr: [102, 4, 100, 1, 101, 3, 2, 1, 1] Longest successive elements count: 4\n",
      "arr: [100, 102, 100, 101, 101, 4, 3, 2, 3, 2, 1, 1, 1, 2] Longest successive elements count: 4\n"
     ]
    }
   ],
   "source": [
    "test_cases = [{'arr': [100,200,1,3,2,4]},\n",
    "              {'arr': [3,8,5,7,6]},\n",
    "              {'arr': [102,4,100,1,101,3,2,1,1]},\n",
    "              {'arr': [100,102,100,101,101,4,3,2,3,2,1,1,1,2]}]\n",
    "\n",
    "for tc in test_cases:\n",
    "    arr = tc['arr']\n",
    "    print('arr:', arr, 'Longest successive elements count:', longest_successive_elements_OS2(arr))"
   ]
  },
  {
   "cell_type": "markdown",
   "id": "673a2a8c",
   "metadata": {},
   "source": [
    "<h3><a href='https://takeuforward.org/data-structure/next_permutation-find-next-lexicographically-greater-permutation/'>Problem Statement 23: Find next permutation</a></h3>\n",
    "<p>Given an array of integers, rearrange the numbers of the given array into the lexicographically next greater permutation of numbers. If such an arrangement is not possible, it must rearrange to the lowest possible order (i.e., sorted in ascending order).</p>\n",
    "<pre>\n",
    "Eample 1:\n",
    "Input: arr = [1,3,2]\n",
    "Output: arr = [2,1,3]\n",
    "Explanation: All permutations of [1,2,3] are [[1,2,3], [1,3,2], [2,1,3], [2,3,1], [3,1,2], [3,2,1]]. So, the next permutation just after [1,3,2] is [2,1,3].\n",
    "\n",
    "Eample 2:\n",
    "Input: arr = [3,2,1]\n",
    "Output: arr = [1,2,3]\n",
    "Explanation: As we see all permutations of [1,2,3], we find [3,2,1] at the last position. So, we have to return the topmost permutation.\n",
    "</pre>"
   ]
  },
  {
   "cell_type": "code",
   "execution_count": 75,
   "id": "d0da4574",
   "metadata": {},
   "outputs": [],
   "source": [
    "\"\"\"\n",
    "Time Complexity  : O( 3n )\n",
    "Space Complexity : O( 1 )\n",
    "\"\"\"\n",
    "def reverse_inplace(arr, i, j):\n",
    "    while i < j:\n",
    "        arr[i], arr[j] = arr[j], arr[i]\n",
    "        i += 1\n",
    "        j -= 1\n",
    "\n",
    "\n",
    "def next_greater_permutation(arr):\n",
    "    n = len(arr)\n",
    "    \n",
    "    #Step 1: Find the break point\n",
    "    idx = -1\n",
    "    for i in range(n-2, -1, -1):\n",
    "        if arr[i] < arr[i+1]:\n",
    "            idx = i\n",
    "            break\n",
    "    else:\n",
    "        #If break point does not exist, reverse the whole array and return\n",
    "        reverse_inplace(arr, 0, n-1)\n",
    "        return arr\n",
    "    \n",
    "    #Step 2: Find the next greater element and swap it with arr[idx]\n",
    "    for i in range(n-1, idx, -1):\n",
    "        if arr[i] > arr[idx]:\n",
    "            arr[i], arr[idx] = arr[idx], arr[i]\n",
    "            break\n",
    "    \n",
    "    # Step 3: reverse the right half\n",
    "    reverse_inplace(arr, idx+1, n-1)\n",
    "    \n",
    "    return arr"
   ]
  },
  {
   "cell_type": "code",
   "execution_count": 76,
   "id": "1dd342d6",
   "metadata": {},
   "outputs": [
    {
     "name": "stdout",
     "output_type": "stream",
     "text": [
      "arr: [1, 3, 2] Next Permutation: [2, 1, 3]\n",
      "arr: [3, 2, 1] Next Permutation: [1, 2, 3]\n"
     ]
    }
   ],
   "source": [
    "test_cases = [{'arr': [1,3,2]},\n",
    "              {'arr': [3,2,1]}]\n",
    "\n",
    "for tc in test_cases:\n",
    "    arr = tc['arr']\n",
    "    print('arr:', arr, end='')\n",
    "    print('', 'Next Permutation:', next_greater_permutation(arr))"
   ]
  },
  {
   "cell_type": "markdown",
   "id": "7d2c95c1",
   "metadata": {},
   "source": [
    "<h3><a href='https://takeuforward.org/data-structure/set-matrix-zero/'>Problem Statement 24: Set Matrix Zero</a></h3>\n",
    "<p>Given a matrix if an element in the matrix is 0 then you will have to set its entire column and row to 0 and then return the matrix.</p>\n",
    "<pre>\n",
    "Example 1:\n",
    "Input: matrix =  [[1,1,1],\n",
    "                  [1,0,1],\n",
    "                  [1,1,1]]\n",
    "Output: matrix = [[1,0,1],\n",
    "                  [0,0,0],\n",
    "                  [1,0,1]]\n",
    "Explanation: Since matrix[2][2]=0.Therfore the 2nd column and 2nd row wil be set to 0.\n",
    "\n",
    "Example 2:\n",
    "Input: matrix =  [[0,1,2,0],\n",
    "                  [3,4,5,2],\n",
    "                  [1,3,1,5]]\n",
    "Output: matrix = [[0,0,0,0],\n",
    "                  [0,4,5,0],\n",
    "                  [0,3,1,0]]\n",
    "Explanation:Since matrix[0][0]=0 and matrix[0][3]=0. Therefore 1st row, 1st column and 4th column will be set to 0\n",
    "</pre>"
   ]
  },
  {
   "cell_type": "code",
   "execution_count": 77,
   "id": "4ba54891",
   "metadata": {},
   "outputs": [],
   "source": [
    "\"\"\"\n",
    "Better solution\n",
    "\n",
    "Time Complexity  : O( 2rc )\n",
    "Space Complexity : O( r ) + O( c )\n",
    "\"\"\"\n",
    "def set_zeroes_BS(matrix):\n",
    "    rows, columns = len(matrix), len(matrix[0])\n",
    "    \n",
    "    row_flag = [False] * rows\n",
    "    col_flag = [False] * columns\n",
    "    \n",
    "    for r in range(rows):\n",
    "        for c in range(columns):\n",
    "            if matrix[r][c] == 0:\n",
    "                row_flag[r] = True\n",
    "                col_flag[c] = True\n",
    "    \n",
    "    for r in range(rows):\n",
    "        for c in range(columns):\n",
    "            if row_flag[r] or col_flag[c]:\n",
    "                matrix[r][c] = 0\n",
    "    \n",
    "    # Not gonna count this\n",
    "    for r in range(rows):\n",
    "        print('\\n')\n",
    "        for c in range(columns):\n",
    "            print(matrix[r][c], ' ', end='')"
   ]
  },
  {
   "cell_type": "code",
   "execution_count": 78,
   "id": "602d05d0",
   "metadata": {},
   "outputs": [
    {
     "name": "stdout",
     "output_type": "stream",
     "text": [
      "\n",
      "\n",
      "1  0  1  \n",
      "\n",
      "0  0  0  \n",
      "\n",
      "1  0  1  \n",
      "####################################################################################################\n",
      "\n",
      "\n",
      "0  0  0  0  \n",
      "\n",
      "0  4  5  0  \n",
      "\n",
      "0  3  1  0  \n",
      "####################################################################################################\n",
      "\n",
      "\n",
      "0  0  0  1  \n",
      "\n",
      "0  0  0  0  \n",
      "\n",
      "0  0  0  0  \n",
      "\n",
      "0  0  0  0  \n",
      "####################################################################################################\n"
     ]
    }
   ],
   "source": [
    "test_cases = [{'matrix': [[1,1,1],\n",
    "                          [1,0,1],\n",
    "                          [1,1,1]]},\n",
    "              {'matrix': [[0,1,2,0],\n",
    "                          [3,4,5,2],\n",
    "                          [1,3,1,5]]},\n",
    "             {'matrix':  [[1,1,1,1],\n",
    "                          [1,0,1,1],\n",
    "                          [1,1,0,1],\n",
    "                          [0,1,1,1]]}]\n",
    "\n",
    "for tc in test_cases:\n",
    "    matrix = tc['matrix']\n",
    "    set_zeroes_BS(matrix)\n",
    "    print('\\n', '#'*100, sep='')"
   ]
  },
  {
   "cell_type": "code",
   "execution_count": 79,
   "id": "bfd95d2d",
   "metadata": {},
   "outputs": [],
   "source": [
    "\"\"\"\n",
    "Optimal solution\n",
    "\n",
    "Time Complexity  : O( 2rc )\n",
    "Space Complexity : O( 1 )\n",
    "\"\"\"\n",
    "def set_zeroes_OS(matrix):\n",
    "    rows, columns = len(matrix), len(matrix[0])\n",
    "    \n",
    "    first_row_zero_flag = False\n",
    "    \n",
    "    #Step 1: Traverse the matrix and mark 1st row & col accordingly\n",
    "    for r in range(rows):\n",
    "        for c in range(columns):\n",
    "            if matrix[r][c] == 0:\n",
    "                matrix[0][c] = 0\n",
    "                \n",
    "                if r == 0:\n",
    "                    first_row_zero_flag = True\n",
    "                else:\n",
    "                    matrix[r][0] = 0\n",
    "    \n",
    "    #Step 2: Mark with 0 from (1,1) to (n-1, m-1)\n",
    "    for r in range(1, rows):\n",
    "        for c in range(1, columns):\n",
    "            if matrix[0][c] == 0 or matrix[r][0] == 0:\n",
    "                matrix[r][c] = 0\n",
    "    \n",
    "    #Step 3: Mark the 1st col as 0s if [0][0] is 0\n",
    "    if matrix[0][0] == 0:\n",
    "        for r in range(rows):\n",
    "            matrix[r][0] = 0\n",
    "    \n",
    "    #Step 4: Mark the 1st row as 0s if first_row_zero_flag is True\n",
    "    if first_row_zero_flag == True:\n",
    "        for c in range(1, columns):\n",
    "            matrix[0][c] = 0\n",
    "    \n",
    "    # Not gonna count this\n",
    "    for r in range(rows):\n",
    "        print('\\n')\n",
    "        for c in range(columns):\n",
    "            print(matrix[r][c], ' ', end='')"
   ]
  },
  {
   "cell_type": "code",
   "execution_count": 80,
   "id": "91631308",
   "metadata": {},
   "outputs": [
    {
     "name": "stdout",
     "output_type": "stream",
     "text": [
      "\n",
      "\n",
      "1  0  1  \n",
      "\n",
      "0  0  0  \n",
      "\n",
      "1  0  1  \n",
      "####################################################################################################\n",
      "\n",
      "\n",
      "0  0  0  0  \n",
      "\n",
      "0  4  5  0  \n",
      "\n",
      "0  3  1  0  \n",
      "####################################################################################################\n",
      "\n",
      "\n",
      "0  0  0  1  \n",
      "\n",
      "0  0  0  0  \n",
      "\n",
      "0  0  0  0  \n",
      "\n",
      "0  0  0  0  \n",
      "####################################################################################################\n",
      "\n",
      "\n",
      "0  0  3  0  \n",
      "\n",
      "0  0  0  0  \n",
      "\n",
      "0  0  0  0  \n",
      "\n",
      "0  0  0  0  \n",
      "####################################################################################################\n"
     ]
    }
   ],
   "source": [
    "test_cases = [{'matrix': [[1,1,1],\n",
    "                          [1,0,1],\n",
    "                          [1,1,1]]},\n",
    "              {'matrix': [[0,1,2,0],\n",
    "                          [3,4,5,2],\n",
    "                          [1,3,1,5]]},\n",
    "             {'matrix':  [[1,1,1,1],\n",
    "                          [1,0,1,1],\n",
    "                          [1,1,0,1],\n",
    "                          [0,1,1,1]]},\n",
    "             {'matrix':  [[ 1, 2, 3, 4],\n",
    "                          [ 5, 0, 7, 8],\n",
    "                          [ 0,10,11,12],\n",
    "                          [13,14,15, 0]]}]\n",
    "\n",
    "for tc in test_cases:\n",
    "    matrix = tc['matrix']\n",
    "    set_zeroes_OS(matrix)\n",
    "    print('\\n', '#'*100, sep='')"
   ]
  },
  {
   "cell_type": "markdown",
   "id": "bd412a5b",
   "metadata": {},
   "source": [
    "<h3><a href='https://takeuforward.org/data-structure/rotate-image-by-90-degree/'>Problem Statement 25: Rotate Image by 90 degree</a></h3>\n",
    "<p>Given a matrix, your task is to rotate the matrix 90 degrees clockwise.</p>\n",
    "<pre>\n",
    "Example 1:\n",
    "Input:  [[1,2,3],\n",
    "         [4,5,6],\n",
    "         [7,8,9]]\n",
    "Output: [[7,4,1],\n",
    "         [8,5,2],\n",
    "         [9,6,3]]\n",
    "\n",
    "Example 2:\n",
    "Input:  [[ 5, 1, 9,11],\n",
    "         [ 2, 4, 8,10],\n",
    "         [13, 3, 6, 7],\n",
    "         [15,14,12,16]]\n",
    "Output: [[15,13, 2, 5],\n",
    "         [14, 3, 4, 1],\n",
    "         [12, 6, 8, 9],\n",
    "         [16, 7,10,11]]\n",
    "</pre>"
   ]
  },
  {
   "cell_type": "code",
   "execution_count": 81,
   "id": "74774c5c",
   "metadata": {},
   "outputs": [],
   "source": [
    "\"\"\"\n",
    "Time Complexity  : O( rc + rc/2 )\n",
    "Space Complexity : O( 1 )\n",
    "\"\"\"\n",
    "def reverse(arr):\n",
    "    n = len(arr)\n",
    "    i, j = 0, n-1\n",
    "    while i < j:\n",
    "        arr[i], arr[j] = arr[j], arr[i]\n",
    "        i += 1\n",
    "        j -= 1\n",
    "\n",
    "def rotate(matrix, direction):\n",
    "    rows, columns = len(matrix), len(matrix[0])\n",
    "    \n",
    "    \n",
    "    if direction == 'LEFT':\n",
    "        for r in range(rows):\n",
    "            reverse( matrix[r] )\n",
    "        \n",
    "        for r in range(rows):\n",
    "            for c in range(r+1, columns):\n",
    "                matrix[r][c], matrix[c][r] = matrix[c][r], matrix[r][c]\n",
    "    else:\n",
    "        for r in range(rows):\n",
    "            for c in range(r+1, columns):\n",
    "                matrix[r][c], matrix[c][r] = matrix[c][r], matrix[r][c]\n",
    "        \n",
    "        for r in range(rows):\n",
    "            reverse( matrix[r] )        \n",
    "    \n",
    "    # Not gonna count this\n",
    "    for r in range(rows):\n",
    "        print('\\n')\n",
    "        for c in range(columns):\n",
    "            print(matrix[r][c], ' ', end='')"
   ]
  },
  {
   "cell_type": "code",
   "execution_count": 82,
   "id": "4ff27760",
   "metadata": {},
   "outputs": [
    {
     "name": "stdout",
     "output_type": "stream",
     "text": [
      "\n",
      "\n",
      "3  6  9  \n",
      "\n",
      "2  5  8  \n",
      "\n",
      "1  4  7  \n",
      "####################################################################################################\n",
      "\n",
      "\n",
      "7  4  1  \n",
      "\n",
      "8  5  2  \n",
      "\n",
      "9  6  3  \n",
      "####################################################################################################\n"
     ]
    }
   ],
   "source": [
    "test_cases = [{'matrix': [[1,2,3],\n",
    "                          [4,5,6],\n",
    "                          [7,8,9]], 'direction': 'LEFT'},\n",
    "              {'matrix': [[1,2,3],\n",
    "                          [4,5,6],\n",
    "                          [7,8,9]], 'direction': 'RIGHT'},]\n",
    "\n",
    "for tc in test_cases:\n",
    "    matrix = tc['matrix']\n",
    "    direction = tc['direction']\n",
    "    rotate(matrix, direction)\n",
    "    print('\\n', '#'*100, sep='')"
   ]
  },
  {
   "cell_type": "markdown",
   "id": "2246b060",
   "metadata": {},
   "source": [
    "<h3><a href='https://takeuforward.org/data-structure/spiral-traversal-of-matrix/'>Problem Statement 26: Spiral Traversal of Matrix</a></h3>\n",
    "<p>Given a Matrix, print the given matrix in spiral order.</p>\n",
    "<pre>\n",
    "Example 1:          L           R\n",
    "Input: matrix = T [[01 02 03 04 05],\n",
    "                   [14 15 16 17 06], \n",
    "                   [13 20 19 18 07], \n",
    "                B  [12 11 10 09 08]] \n",
    "Outhput: 1 2 3 4 5 6 7 8 9 10 11 12 13 14 15 16 17 18 19 20\n",
    "</pre>"
   ]
  },
  {
   "cell_type": "code",
   "execution_count": 83,
   "id": "8014e2cf",
   "metadata": {},
   "outputs": [],
   "source": [
    "\"\"\"\n",
    "Time Complexity  : O( rc )\n",
    "Space Complexity : O( 1 )\n",
    "\"\"\"\n",
    "def print_spiral(matrix):\n",
    "    rows, columns = len(matrix), len(matrix[0])\n",
    "    \n",
    "    top, bottom = 0, rows-1\n",
    "    left, right = 0, columns-1\n",
    "    \n",
    "    result = []\n",
    "    \n",
    "    while top <= bottom and left <= right:\n",
    "        for i in range(left, right+1):\n",
    "            result.append( matrix[top][i] )\n",
    "        top += 1\n",
    "        \n",
    "        for i in range(top, bottom+1):\n",
    "            result.append( matrix[i][right] )\n",
    "        right -= 1\n",
    "        \n",
    "        if top <= bottom:\n",
    "            for i in range(right, left-1, -1):\n",
    "                result.append( matrix[bottom][i] )\n",
    "            bottom -= 1\n",
    "        \n",
    "        if left <= right:\n",
    "            for i in range(bottom, top-1, -1):\n",
    "                result.append( matrix[i][left] )\n",
    "            left += 1\n",
    "    \n",
    "    return result"
   ]
  },
  {
   "cell_type": "code",
   "execution_count": 84,
   "id": "ebde2d38",
   "metadata": {},
   "outputs": [
    {
     "name": "stdout",
     "output_type": "stream",
     "text": [
      "[1, 2, 3, 4, 5, 6, 7, 8, 9, 10, 11, 12, 13, 14, 15, 16, 17, 18, 19, 20]\n"
     ]
    }
   ],
   "source": [
    "test_cases = [{'matrix': [[ 1,  2,  3,  4, 5],\n",
    "                          [14, 15, 16, 17, 6], \n",
    "                          [13, 20, 19, 18, 7], \n",
    "                          [12, 11, 10,  9, 8]]}]\n",
    "\n",
    "for tc in test_cases:\n",
    "    matrix = tc['matrix']\n",
    "    print(print_spiral(matrix))"
   ]
  },
  {
   "cell_type": "markdown",
   "id": "caf3f328",
   "metadata": {},
   "source": [
    "<h3><a href='https://takeuforward.org/data-structure/program-to-generate-pascals-triangle/'>Problem Statement 27: Pascal's Triangle</a></h3>\n",
    "<p>This problem has 3 variations. They are stated below:<br/>\n",
    "<b>Variation 1:</b> Given row number r and column number c. Print the element at position (r, c) in Pascal’s triangle.<br/>\n",
    "<b>Variation 2:</b> Given the row number n. Print the n-th row of Pascal’s triangle.<br/>\n",
    "<b>Variation 3:</b> Given the number of rows n. Print the first n rows of Pascal’s triangle.<br/>\n",
    "</p>\n",
    "<pre>\n",
    "Example 1:\n",
    "Input:  r = 5, c = 3\n",
    "Output: (for variation 1) -> 6 \n",
    "        (for variation 2) -> 1 4 6 4 1\n",
    "        (for variation 3) -> 1 \n",
    "                             1 1 \n",
    "                             1 2 1 \n",
    "                             1 3 3 1 \n",
    "                             1 4 6 4 1    \n",
    "\n",
    "Example 2:\n",
    "Input: r = 1, c = 1\n",
    "Output: (for variation 1) -> 1 \n",
    "        (for variation 2) -> 1\n",
    "        (for variation 3) -> 1\n",
    "</pre>"
   ]
  },
  {
   "cell_type": "code",
   "execution_count": 85,
   "id": "bbf38d4a",
   "metadata": {},
   "outputs": [],
   "source": [
    "# note:\n",
    "# nCr =      n!       = n x (n-1) x (n-2) x ... x (n-r)! = n x (n-1) x (n-2) x ...\n",
    "#       -------------   --------------------------------   -----------------------\n",
    "#        r! x (n-r)!              r! x (n-r)!                         r!\n",
    "\n",
    "\"\"\"\n",
    "Time Complexity  : O( r )\n",
    "Space Complexity : O( 1 )\n",
    "\"\"\"\n",
    "def nCr(n, r):\n",
    "    numerator = denominator = 1\n",
    "    \n",
    "    for i in range(1, r+1):\n",
    "        numerator *= n\n",
    "        denominator *= i\n",
    "        n -= 1\n",
    "    \n",
    "    return int(numerator / denominator)"
   ]
  },
  {
   "cell_type": "code",
   "execution_count": 86,
   "id": "d689b1c6",
   "metadata": {},
   "outputs": [],
   "source": [
    "\"\"\"\n",
    "Variation 1 (Optimal solution)\n",
    "\n",
    "Time Complexity  : O( col_num )\n",
    "Space Complexity : O( 1 )\n",
    "\"\"\"\n",
    "def pascals_triangle_v1(row_num, col_num):\n",
    "    return nCr( row_num-1, col_num-1 )"
   ]
  },
  {
   "cell_type": "code",
   "execution_count": 87,
   "id": "38ef4aba",
   "metadata": {},
   "outputs": [
    {
     "name": "stdout",
     "output_type": "stream",
     "text": [
      "row_num: 1\tcol_num: 1\tPascal's Triangle Element: 1\n",
      "row_num: 2\tcol_num: 2\tPascal's Triangle Element: 1\n",
      "row_num: 5\tcol_num: 5\tPascal's Triangle Element: 6\n",
      "row_num: 6\tcol_num: 6\tPascal's Triangle Element: 10\n",
      "row_num: 12\tcol_num: 12\tPascal's Triangle Element: 462\n"
     ]
    }
   ],
   "source": [
    "test_cases = [{'row_num': 1, 'col_num': 1},\n",
    "              {'row_num': 2, 'col_num': 2},\n",
    "              {'row_num': 5, 'col_num': 3},\n",
    "              {'row_num': 6, 'col_num': 4},\n",
    "              {'row_num': 12, 'col_num': 6}]\n",
    "\n",
    "for tc in test_cases:\n",
    "    row_num, col_num = tc['row_num'], tc['col_num']\n",
    "    print(f\"row_num: {row_num}\\tcol_num: {row_num}\\tPascal's Triangle Element: {pascals_triangle_v1(row_num, col_num)}\")"
   ]
  },
  {
   "cell_type": "markdown",
   "id": "458bd954",
   "metadata": {},
   "source": [
    "<hr/>"
   ]
  },
  {
   "cell_type": "code",
   "execution_count": 88,
   "id": "8dd5525b",
   "metadata": {},
   "outputs": [],
   "source": [
    "\"\"\"\n",
    "Variation 2 (Brute force solution)\n",
    "\n",
    "Time Complexity  : O( r(r+1)/2 ) ~ O ( r^2 )\n",
    "Space Complexity : O( 1 )\n",
    "\"\"\"\n",
    "def pascals_triangle_v2_BFS(row_num):\n",
    "    result = []\n",
    "    for col_num in range(1, row_num+1):\n",
    "        result.append( nCr( row_num-1, col_num-1 ) )\n",
    "    return result"
   ]
  },
  {
   "cell_type": "code",
   "execution_count": 89,
   "id": "e2310417",
   "metadata": {},
   "outputs": [
    {
     "name": "stdout",
     "output_type": "stream",
     "text": [
      "row_num: 1\tPascal's Triangle Row: [1]\n",
      "row_num: 2\tPascal's Triangle Row: [1, 1]\n",
      "row_num: 5\tPascal's Triangle Row: [1, 4, 6, 4, 1]\n",
      "row_num: 6\tPascal's Triangle Row: [1, 5, 10, 10, 5, 1]\n",
      "row_num: 12\tPascal's Triangle Row: [1, 11, 55, 165, 330, 462, 462, 330, 165, 55, 11, 1]\n"
     ]
    }
   ],
   "source": [
    "test_cases = [{'row_num': 1},\n",
    "              {'row_num': 2},\n",
    "              {'row_num': 5},\n",
    "              {'row_num': 6},\n",
    "              {'row_num': 12}]\n",
    "\n",
    "for tc in test_cases:\n",
    "    row_num = tc['row_num']\n",
    "    print(f\"row_num: {row_num}\\tPascal's Triangle Row: {pascals_triangle_v2_BFS(row_num)}\")"
   ]
  },
  {
   "cell_type": "code",
   "execution_count": 90,
   "id": "dd434145",
   "metadata": {},
   "outputs": [],
   "source": [
    "\"\"\"\n",
    "Variation 2 (Optimal solution)\n",
    "\n",
    "Time Complexity  : O( r )\n",
    "Space Complexity : O( 1 )\n",
    "\"\"\"\n",
    "def pascals_triangle_v2_OS(row_num):\n",
    "    result = []\n",
    "    \n",
    "    prev_row_num = row_num - 1\n",
    "    numerator = denominator = 1\n",
    "    \n",
    "    for col_num in range(0, row_num):\n",
    "        if col_num == 0 or col_num == row_num-1:\n",
    "            result.append( 1 )\n",
    "        else:\n",
    "            numerator *= prev_row_num\n",
    "            denominator *= col_num\n",
    "            prev_row_num -= 1\n",
    "            \n",
    "            result.append( int(numerator / denominator) )\n",
    "    \n",
    "    return result"
   ]
  },
  {
   "cell_type": "code",
   "execution_count": 91,
   "id": "20e163e4",
   "metadata": {},
   "outputs": [
    {
     "name": "stdout",
     "output_type": "stream",
     "text": [
      "row_num: 1\tPascal's Triangle Row: [1]\n",
      "row_num: 2\tPascal's Triangle Row: [1, 1]\n",
      "row_num: 5\tPascal's Triangle Row: [1, 4, 6, 4, 1]\n",
      "row_num: 6\tPascal's Triangle Row: [1, 5, 10, 10, 5, 1]\n",
      "row_num: 12\tPascal's Triangle Row: [1, 11, 55, 165, 330, 462, 462, 330, 165, 55, 11, 1]\n"
     ]
    }
   ],
   "source": [
    "test_cases = [{'row_num': 1},\n",
    "              {'row_num': 2},\n",
    "              {'row_num': 5},\n",
    "              {'row_num': 6},\n",
    "              {'row_num': 12}]\n",
    "\n",
    "for tc in test_cases:\n",
    "    row_num = tc['row_num']\n",
    "    print(f\"row_num: {row_num}\\tPascal's Triangle Row: {pascals_triangle_v2_OS(row_num)}\")"
   ]
  },
  {
   "cell_type": "markdown",
   "id": "7038bd25",
   "metadata": {},
   "source": [
    "<hr/>"
   ]
  },
  {
   "cell_type": "code",
   "execution_count": 92,
   "id": "0c3db454",
   "metadata": {},
   "outputs": [],
   "source": [
    "\"\"\"\n",
    "Variation 3 (Brute force solution)\n",
    "\n",
    "Time Complexity  : O( ∑[1,r](r(r+1)/2) ) = O( r(r+1)(2r+1)/6 ) ~ O ( r^3 )\n",
    "Space Complexity : O( 1 )\n",
    "\"\"\"\n",
    "def pascals_triangle_v3_BFS(row_num):\n",
    "    result = []\n",
    "    \n",
    "    for row in range(1, row_num+1):\n",
    "        result_row = []\n",
    "        \n",
    "        for col in range(1, row+1):\n",
    "            result_row.append( nCr( row-1, col-1 ) )\n",
    "        \n",
    "        result.append( result_row )\n",
    "    \n",
    "    return result"
   ]
  },
  {
   "cell_type": "code",
   "execution_count": 93,
   "id": "720bea25",
   "metadata": {},
   "outputs": [
    {
     "name": "stdout",
     "output_type": "stream",
     "text": [
      "[1]\n",
      "####################################################################################################\n",
      "[1]\n",
      "[1, 1]\n",
      "####################################################################################################\n",
      "[1]\n",
      "[1, 1]\n",
      "[1, 2, 1]\n",
      "[1, 3, 3, 1]\n",
      "[1, 4, 6, 4, 1]\n",
      "####################################################################################################\n",
      "[1]\n",
      "[1, 1]\n",
      "[1, 2, 1]\n",
      "[1, 3, 3, 1]\n",
      "[1, 4, 6, 4, 1]\n",
      "[1, 5, 10, 10, 5, 1]\n",
      "####################################################################################################\n",
      "[1]\n",
      "[1, 1]\n",
      "[1, 2, 1]\n",
      "[1, 3, 3, 1]\n",
      "[1, 4, 6, 4, 1]\n",
      "[1, 5, 10, 10, 5, 1]\n",
      "[1, 6, 15, 20, 15, 6, 1]\n",
      "[1, 7, 21, 35, 35, 21, 7, 1]\n",
      "[1, 8, 28, 56, 70, 56, 28, 8, 1]\n",
      "[1, 9, 36, 84, 126, 126, 84, 36, 9, 1]\n",
      "[1, 10, 45, 120, 210, 252, 210, 120, 45, 10, 1]\n",
      "[1, 11, 55, 165, 330, 462, 462, 330, 165, 55, 11, 1]\n",
      "####################################################################################################\n"
     ]
    }
   ],
   "source": [
    "test_cases = [{'row_num': 1},\n",
    "              {'row_num': 2},\n",
    "              {'row_num': 5},\n",
    "              {'row_num': 6},\n",
    "              {'row_num': 12}]\n",
    "\n",
    "for tc in test_cases:\n",
    "    row_num = tc['row_num']\n",
    "    pt = pascals_triangle_v3_BFS(row_num)\n",
    "    for row in pt:\n",
    "        print(row)\n",
    "    print('#'*100)"
   ]
  },
  {
   "cell_type": "code",
   "execution_count": 94,
   "id": "f309e30f",
   "metadata": {},
   "outputs": [],
   "source": [
    "\"\"\"\n",
    "Variation 3 (Optimal solution)\n",
    "\n",
    "Time Complexity  : O ( r^2 )\n",
    "Space Complexity : O( 1 )\n",
    "\"\"\"\n",
    "def pascals_triangle_v3_OS(row_num):\n",
    "    result = []\n",
    "    \n",
    "    for row in range(1, row_num+1):\n",
    "        result.append( pascals_triangle_v2_OS(row) )\n",
    "    \n",
    "    return result"
   ]
  },
  {
   "cell_type": "code",
   "execution_count": 95,
   "id": "0c3b7eb8",
   "metadata": {},
   "outputs": [
    {
     "name": "stdout",
     "output_type": "stream",
     "text": [
      "[1]\n",
      "####################################################################################################\n",
      "[1]\n",
      "[1, 1]\n",
      "####################################################################################################\n",
      "[1]\n",
      "[1, 1]\n",
      "[1, 2, 1]\n",
      "[1, 3, 3, 1]\n",
      "[1, 4, 6, 4, 1]\n",
      "####################################################################################################\n",
      "[1]\n",
      "[1, 1]\n",
      "[1, 2, 1]\n",
      "[1, 3, 3, 1]\n",
      "[1, 4, 6, 4, 1]\n",
      "[1, 5, 10, 10, 5, 1]\n",
      "####################################################################################################\n",
      "[1]\n",
      "[1, 1]\n",
      "[1, 2, 1]\n",
      "[1, 3, 3, 1]\n",
      "[1, 4, 6, 4, 1]\n",
      "[1, 5, 10, 10, 5, 1]\n",
      "[1, 6, 15, 20, 15, 6, 1]\n",
      "[1, 7, 21, 35, 35, 21, 7, 1]\n",
      "[1, 8, 28, 56, 70, 56, 28, 8, 1]\n",
      "[1, 9, 36, 84, 126, 126, 84, 36, 9, 1]\n",
      "[1, 10, 45, 120, 210, 252, 210, 120, 45, 10, 1]\n",
      "[1, 11, 55, 165, 330, 462, 462, 330, 165, 55, 11, 1]\n",
      "####################################################################################################\n"
     ]
    }
   ],
   "source": [
    "test_cases = [{'row_num': 1},\n",
    "              {'row_num': 2},\n",
    "              {'row_num': 5},\n",
    "              {'row_num': 6},\n",
    "              {'row_num': 12}]\n",
    "\n",
    "for tc in test_cases:\n",
    "    row_num = tc['row_num']\n",
    "    pt = pascals_triangle_v3_OS(row_num)\n",
    "    for row in pt:\n",
    "        print(row)\n",
    "    print('#'*100)"
   ]
  },
  {
   "cell_type": "code",
   "execution_count": null,
   "id": "a02d126e",
   "metadata": {},
   "outputs": [],
   "source": []
  }
 ],
 "metadata": {
  "kernelspec": {
   "display_name": "Python 3 (ipykernel)",
   "language": "python",
   "name": "python3"
  },
  "language_info": {
   "codemirror_mode": {
    "name": "ipython",
    "version": 3
   },
   "file_extension": ".py",
   "mimetype": "text/x-python",
   "name": "python",
   "nbconvert_exporter": "python",
   "pygments_lexer": "ipython3",
   "version": "3.10.4"
  }
 },
 "nbformat": 4,
 "nbformat_minor": 5
}
