{
 "cells": [
  {
   "cell_type": "markdown",
   "id": "d8a8e260",
   "metadata": {},
   "source": [
    "# Arrays"
   ]
  },
  {
   "cell_type": "markdown",
   "id": "4cfdad05",
   "metadata": {},
   "source": [
    "<h3><a href='https://takeuforward.org/data-structure/linear-search-in-c/'>Problem Statement 1: Linear Search</a></h3>\n",
    "<p>Given an array, and an element num the task is to find if num is present in the given array or not. If present print the index of the element or print -1.</p>\n",
    "<pre>\n",
    "Example 1:\n",
    "Input: arr[]= 1 2 3 4 5, num = 3\n",
    "Output: 2\n",
    "Explanation: 3 is present in the 2nd index\n",
    "\n",
    "Example 2:\n",
    "Input: arr[]= 5 4 3 2 1, num = 5\n",
    "Output: 0\n",
    "Explanation: 5 is present in the 0th index\n",
    "</pre>"
   ]
  },
  {
   "cell_type": "code",
   "execution_count": 1,
   "id": "985695a7",
   "metadata": {},
   "outputs": [],
   "source": [
    "\"\"\"\n",
    "Time Complexity  : O( n )\n",
    "Space Complexity : O( 1 )\n",
    "\"\"\"\n",
    "def linear_search(arr, num):\n",
    "    n = len(arr)\n",
    "    \n",
    "    for i in range(0, n):\n",
    "        if arr[i] == num:\n",
    "            return i\n",
    "    \n",
    "    return -1"
   ]
  },
  {
   "cell_type": "code",
   "execution_count": 2,
   "id": "0db6b127",
   "metadata": {},
   "outputs": [
    {
     "name": "stdout",
     "output_type": "stream",
     "text": [
      "arr: [1, 2, 3, 4, 5] num: 3 Index: 2\n",
      "arr: [5, 4, 3, 2, 1] num: 5 Index: 0\n",
      "arr: [5, 4, 3, 2, 1] num: 7 Index: -1\n"
     ]
    }
   ],
   "source": [
    "test_cases = [{'arr': [1,2,3,4,5], 'num': 3}, \n",
    "              {'arr': [5,4,3,2,1], 'num': 5},\n",
    "              {'arr': [5,4,3,2,1], 'num': 7}]\n",
    "\n",
    "for tc in test_cases:\n",
    "    arr = tc['arr']\n",
    "    num = tc['num']\n",
    "    print('arr:', arr, 'num:', num, 'Index:', linear_search(arr, num))"
   ]
  },
  {
   "cell_type": "markdown",
   "id": "8dc34c21",
   "metadata": {},
   "source": [
    "<h3><a href='https://takeuforward.org/data-structure/check-if-an-array-is-sorted/'>Problem Statement 2: Check if an Array is Sorted</a></h3>\n",
    "<p>Given an array of size n, write a program to check if the given array is sorted in (ascending / Increasing / Non-decreasing) order or not. If the array is sorted then return True, Else return False.<br/>\n",
    "<br/>\n",
    "<i><b>Note:</b> Two consecutive equal values are considered to be sorted.</i></p>\n",
    "<pre>\n",
    "Example 1:\n",
    "Input: N = 5, array[] = {1,2,3,4,5}\n",
    "Output: True.\n",
    "Explanation: The given array is sorted.\n",
    "\n",
    "Example 2:\n",
    "Input: N = 5, array[] = {5,4,6,7,8}\n",
    "Output: False.\n",
    "Explanation: The given array is not sorted. Element 5 is not smaller than or equal to its next elements.\n",
    "</pre>"
   ]
  },
  {
   "cell_type": "code",
   "execution_count": 3,
   "id": "b811b32a",
   "metadata": {},
   "outputs": [],
   "source": [
    "\"\"\"\n",
    "Time Complexity  : O( n )\n",
    "Space Complexity : O( 1 )\n",
    "\"\"\"\n",
    "def is_sorted(arr):\n",
    "    n = len(arr)\n",
    "    \n",
    "    for i in range(1, n):\n",
    "        if arr[i-1] > arr[i]:\n",
    "            return False\n",
    "    \n",
    "    return True"
   ]
  },
  {
   "cell_type": "code",
   "execution_count": 4,
   "id": "f96f55ca",
   "metadata": {},
   "outputs": [
    {
     "name": "stdout",
     "output_type": "stream",
     "text": [
      "arr: [1, 2, 3, 4, 5] is sorted: True\n",
      "arr: [4, 6, 5, 7, 8] is sorted: False\n"
     ]
    }
   ],
   "source": [
    "test_cases = [{'arr': [1,2,3,4,5]}, \n",
    "              {'arr': [4,6,5,7,8]}]\n",
    "\n",
    "for tc in test_cases:\n",
    "    arr = tc['arr']\n",
    "    print('arr:', arr, 'is sorted:', is_sorted(arr))"
   ]
  },
  {
   "cell_type": "markdown",
   "id": "a6ecc2d5",
   "metadata": {},
   "source": [
    "<h3><a href='https://takeuforward.org/data-structure/find-the-largest-element-in-an-array/'>Problem Statement 3: Find the largest & smallest elements in an array</a></h3>\n",
    "<p>Given an array, find the largest and the smallest elements in the array.</p>\n",
    "<pre>\n",
    "Example 1:\n",
    "Input: arr[] = {2,5,1,3,0};\n",
    "Output: (0, 5)\n",
    "\n",
    "Example2: \n",
    "Input: arr[] = {8,10,5,7,9};\n",
    "Output: (5, 10)\n",
    "</pre>"
   ]
  },
  {
   "cell_type": "code",
   "execution_count": 5,
   "id": "2afc121c",
   "metadata": {},
   "outputs": [],
   "source": [
    "\"\"\"\n",
    "Time Complexity  : O( n )\n",
    "Space Complexity : O( 1 )\n",
    "\"\"\"\n",
    "def find_min_max(arr):\n",
    "    mini = maxi = arr[0]\n",
    "    \n",
    "    n = len(arr)\n",
    "    for i in range(1, n):\n",
    "        mini = min(arr[i], mini)\n",
    "        maxi = max(arr[i], maxi)\n",
    "    \n",
    "    return mini, maxi"
   ]
  },
  {
   "cell_type": "code",
   "execution_count": 6,
   "id": "90e57a74",
   "metadata": {},
   "outputs": [
    {
     "name": "stdout",
     "output_type": "stream",
     "text": [
      "arr: [2, 5, 1, 3, 0] (min, max): (0, 5)\n",
      "arr: [8, 10, 5, 7, 9] (min, max): (5, 10)\n"
     ]
    }
   ],
   "source": [
    "test_cases = [{'arr': [2,5,1,3,0]}, \n",
    "              {'arr': [8,10,5,7,9]}]\n",
    "\n",
    "for tc in test_cases:\n",
    "    arr = tc['arr']\n",
    "    print('arr:', arr, '(min, max):', find_min_max(arr))"
   ]
  },
  {
   "cell_type": "markdown",
   "id": "be26ec89",
   "metadata": {},
   "source": [
    "<h3><a href='https://takeuforward.org/strivers-a2z-dsa-course/strivers-a2z-dsa-course-sheet-2/'>Problem Statement 4: Find the second largest & smallest elements in an array</a></h3>\n",
    "<p>Given an array, find the second smallest and second largest element in the array. Print ‘-1’ in the event that either of them doesn’t exist.</p>\n",
    "<pre>\n",
    "Example 1:\n",
    "Input: [1,2,4,7,7,5]\n",
    "Output: (2, 5)\n",
    "\n",
    "Example 2:\n",
    "Input: [1]\n",
    "Output: (-1, -1)\n",
    "</pre>"
   ]
  },
  {
   "cell_type": "code",
   "execution_count": 7,
   "id": "41ba727c",
   "metadata": {},
   "outputs": [],
   "source": [
    "\"\"\"\n",
    "Brute force solution\n",
    "\n",
    "Time Complexity  : O( n log n ) [For sorting the array]\n",
    "Space Complexity : O( 1 )\n",
    "\"\"\"\n",
    "def find_2nd_mini_maxi_BFS(arr):\n",
    "    arr.sort()\n",
    "    \n",
    "    #If it is guaranteed that the array has no duplicates\n",
    "    #return arr[1], arr[-2]\n",
    "    \n",
    "    mini = float('inf')\n",
    "    maxi = float('-inf')\n",
    "    n = len(arr)\n",
    "    \n",
    "    for i in range(0, n):\n",
    "        if arr[i] != arr[0]:\n",
    "            mini = min(arr[i], mini)\n",
    "        \n",
    "        if arr[i] != arr[-1]:\n",
    "            maxi = max(arr[i], maxi)\n",
    "    \n",
    "    mini = -1 if mini == float('inf') else mini\n",
    "    maxi = -1 if maxi == float('-inf') else maxi\n",
    "    \n",
    "    return mini, maxi"
   ]
  },
  {
   "cell_type": "code",
   "execution_count": 8,
   "id": "fc970f5e",
   "metadata": {},
   "outputs": [
    {
     "name": "stdout",
     "output_type": "stream",
     "text": [
      "arr: [1] \t\t\t(min, max): (-1, -1)\n",
      "arr: [1, 1, 1, 1, 1, 1] \t(min, max): (-1, -1)\n",
      "arr: [1, 1, 3] \t\t\t(min, max): (3, 1)\n",
      "arr: [1, 2, 4, 5, 7, 7] \t(min, max): (2, 5)\n",
      "arr: [5, 7, 8, 9, 10] \t\t(min, max): (7, 9)\n"
     ]
    }
   ],
   "source": [
    "test_cases = [{'arr': [1]},\n",
    "              {'arr': [1,1,1,1,1,1]},\n",
    "              {'arr': [1,1,3]},\n",
    "              {'arr': [1,2,4,7,7,5]},\n",
    "              {'arr': [8,10,5,7,9]}]\n",
    "\n",
    "\n",
    "print('arr:', test_cases[0]['arr'], '\\t\\t\\t(min, max):', find_2nd_mini_maxi_BFS(arr = test_cases[0]['arr']))\n",
    "print('arr:', test_cases[1]['arr'], '\\t(min, max):',     find_2nd_mini_maxi_BFS(arr = test_cases[1]['arr']))\n",
    "print('arr:', test_cases[2]['arr'], '\\t\\t\\t(min, max):', find_2nd_mini_maxi_BFS(arr = test_cases[2]['arr']))\n",
    "print('arr:', test_cases[3]['arr'], '\\t(min, max):',     find_2nd_mini_maxi_BFS(arr = test_cases[3]['arr']))\n",
    "print('arr:', test_cases[4]['arr'], '\\t\\t(min, max):',   find_2nd_mini_maxi_BFS(arr = test_cases[4]['arr']))"
   ]
  },
  {
   "cell_type": "code",
   "execution_count": 9,
   "id": "31b98b08",
   "metadata": {},
   "outputs": [],
   "source": [
    "\"\"\"\n",
    "Better solution\n",
    "\n",
    "Time Complexity  : O( 2n )\n",
    "Space Complexity : O( 1 )\n",
    "\"\"\"\n",
    "def find_2nd_mini_maxi_BS(arr):\n",
    "    n = len(arr)\n",
    "    \n",
    "    mini = maxi = arr[0]\n",
    "    for i in range(1, n):\n",
    "        mini = min(arr[i], mini)\n",
    "        maxi = max(arr[i], maxi)\n",
    "    \n",
    "    second_mini = float('inf')\n",
    "    second_maxi = float('-inf')\n",
    "    for i in range(0, n):\n",
    "        if arr[i] != mini:\n",
    "            second_mini = min(arr[i], second_mini)\n",
    "        \n",
    "        if arr[i] != maxi:\n",
    "            second_maxi = max(arr[i], second_maxi)\n",
    "    \n",
    "    second_mini = -1 if second_mini == float('inf') else second_mini\n",
    "    second_maxi = -1 if second_maxi == float('-inf') else second_maxi\n",
    "    \n",
    "    return second_mini, second_maxi"
   ]
  },
  {
   "cell_type": "code",
   "execution_count": 10,
   "id": "3637dc3c",
   "metadata": {},
   "outputs": [
    {
     "name": "stdout",
     "output_type": "stream",
     "text": [
      "arr: [1] \t\t\t(min, max): (-1, -1)\n",
      "arr: [1, 1, 1, 1, 1, 1] \t(min, max): (-1, -1)\n",
      "arr: [1, 1, 3] \t\t\t(min, max): (3, 1)\n",
      "arr: [1, 2, 4, 7, 7, 5] \t(min, max): (2, 5)\n",
      "arr: [8, 10, 5, 7, 9] \t\t(min, max): (7, 9)\n"
     ]
    }
   ],
   "source": [
    "test_cases = [{'arr': [1]},\n",
    "              {'arr': [1,1,1,1,1,1]},\n",
    "              {'arr': [1,1,3]},\n",
    "              {'arr': [1,2,4,7,7,5]},\n",
    "              {'arr': [8,10,5,7,9]}]\n",
    "\n",
    "\n",
    "print('arr:', test_cases[0]['arr'], '\\t\\t\\t(min, max):', find_2nd_mini_maxi_BS(arr = test_cases[0]['arr']))\n",
    "print('arr:', test_cases[1]['arr'], '\\t(min, max):',     find_2nd_mini_maxi_BS(arr = test_cases[1]['arr']))\n",
    "print('arr:', test_cases[2]['arr'], '\\t\\t\\t(min, max):', find_2nd_mini_maxi_BS(arr = test_cases[2]['arr']))\n",
    "print('arr:', test_cases[3]['arr'], '\\t(min, max):',     find_2nd_mini_maxi_BS(arr = test_cases[3]['arr']))\n",
    "print('arr:', test_cases[4]['arr'], '\\t\\t(min, max):',   find_2nd_mini_maxi_BS(arr = test_cases[4]['arr']))"
   ]
  },
  {
   "cell_type": "code",
   "execution_count": 11,
   "id": "3ba89335",
   "metadata": {},
   "outputs": [],
   "source": [
    "\"\"\"\n",
    "Optimal solution\n",
    "\n",
    "Time Complexity  : O( n )\n",
    "Space Complexity : O( 1 )\n",
    "\"\"\"\n",
    "def find_2nd_mini_maxi_OS(arr):\n",
    "    n = len(arr)\n",
    "    \n",
    "    mini, second_mini = arr[0], float('inf')\n",
    "    second_maxi, maxi = float('-inf'), arr[0]\n",
    "    \n",
    "    for i in range(1, n):\n",
    "        #Finds the second smallest element\n",
    "        if arr[i] < mini:\n",
    "            second_mini = mini\n",
    "            mini = arr[i]\n",
    "        elif arr[i] > mini and arr[i] < second_mini:\n",
    "            second_mini = arr[i]\n",
    "        \n",
    "        #Finds the second largest element\n",
    "        if arr[i] > maxi:\n",
    "            second_maxi = maxi\n",
    "            maxi = arr[i]\n",
    "        elif arr[i] < maxi and arr[i] > second_maxi:\n",
    "            second_maxi = arr[i]\n",
    "    \n",
    "    second_mini = -1 if second_mini == float('inf') else second_mini\n",
    "    second_maxi = -1 if second_maxi == float('-inf') else second_maxi\n",
    "    \n",
    "    return second_mini, second_maxi"
   ]
  },
  {
   "cell_type": "code",
   "execution_count": 12,
   "id": "d4d10837",
   "metadata": {},
   "outputs": [
    {
     "name": "stdout",
     "output_type": "stream",
     "text": [
      "arr: [1] \t\t\t(min, max): (-1, -1)\n",
      "arr: [1, 1, 1, 1, 1, 1] \t(min, max): (-1, -1)\n",
      "arr: [1, 1, 3] \t\t\t(min, max): (3, 1)\n",
      "arr: [1, 2, 4, 7, 7, 5] \t(min, max): (2, 5)\n",
      "arr: [8, 10, 5, 7, 9] \t\t(min, max): (7, 9)\n"
     ]
    }
   ],
   "source": [
    "test_cases = [{'arr': [1]},\n",
    "              {'arr': [1,1,1,1,1,1]},\n",
    "              {'arr': [1,1,3]},\n",
    "              {'arr': [1,2,4,7,7,5]},\n",
    "              {'arr': [8,10,5,7,9]}]\n",
    "\n",
    "\n",
    "print('arr:', test_cases[0]['arr'], '\\t\\t\\t(min, max):', find_2nd_mini_maxi_OS(arr = test_cases[0]['arr']))\n",
    "print('arr:', test_cases[1]['arr'], '\\t(min, max):',     find_2nd_mini_maxi_OS(arr = test_cases[1]['arr']))\n",
    "print('arr:', test_cases[2]['arr'], '\\t\\t\\t(min, max):', find_2nd_mini_maxi_OS(arr = test_cases[2]['arr']))\n",
    "print('arr:', test_cases[3]['arr'], '\\t(min, max):',     find_2nd_mini_maxi_OS(arr = test_cases[3]['arr']))\n",
    "print('arr:', test_cases[4]['arr'], '\\t\\t(min, max):',   find_2nd_mini_maxi_OS(arr = test_cases[4]['arr']))"
   ]
  },
  {
   "cell_type": "markdown",
   "id": "385de710",
   "metadata": {},
   "source": [
    "<h3><a href='#'>Problem Statement 5: Reverse an array in-place</a></h3>\n",
    "<p>Given an array, reverse it in-place (i.e. without using extra space).</p>\n",
    "<pre>\n",
    "Example 1:\n",
    "Input: [1,2,4,7,7,5]\n",
    "Output: [5,7,7,4,2,1]\n",
    "\n",
    "Example 2:\n",
    "Input: [1]\n",
    "Output: [1]\n",
    "</pre>"
   ]
  },
  {
   "cell_type": "code",
   "execution_count": 13,
   "id": "d4f514d5",
   "metadata": {},
   "outputs": [],
   "source": [
    "\"\"\"\n",
    "Time Complexity  : O( n )\n",
    "Space Complexity : O( 1 )\n",
    "\"\"\"\n",
    "def inplace_reverse(arr):\n",
    "    i = 0\n",
    "    j = len(arr) - 1\n",
    "    \n",
    "    while i < j:\n",
    "        arr[i], arr[j] = arr[j], arr[i]\n",
    "        i += 1\n",
    "        j -= 1"
   ]
  },
  {
   "cell_type": "code",
   "execution_count": 14,
   "id": "4c35496a",
   "metadata": {},
   "outputs": [
    {
     "name": "stdout",
     "output_type": "stream",
     "text": [
      "Reversed arr: [5, 7, 7, 4, 2, 1]\n",
      "Reversed arr: [1]\n"
     ]
    }
   ],
   "source": [
    "test_cases = [{'arr': [1,2,4,7,7,5]}, \n",
    "              {'arr': [1]}]\n",
    "\n",
    "for tc in test_cases:\n",
    "    arr = tc['arr']\n",
    "    inplace_reverse(arr)\n",
    "    print('Reversed arr:', arr)"
   ]
  },
  {
   "cell_type": "code",
   "execution_count": null,
   "id": "d904ba8e",
   "metadata": {},
   "outputs": [],
   "source": []
  }
 ],
 "metadata": {
  "kernelspec": {
   "display_name": "Python 3 (ipykernel)",
   "language": "python",
   "name": "python3"
  },
  "language_info": {
   "codemirror_mode": {
    "name": "ipython",
    "version": 3
   },
   "file_extension": ".py",
   "mimetype": "text/x-python",
   "name": "python",
   "nbconvert_exporter": "python",
   "pygments_lexer": "ipython3",
   "version": "3.10.4"
  }
 },
 "nbformat": 4,
 "nbformat_minor": 5
}
