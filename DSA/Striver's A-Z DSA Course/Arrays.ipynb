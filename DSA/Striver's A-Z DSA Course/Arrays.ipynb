{
 "cells": [
  {
   "cell_type": "markdown",
   "id": "d8a8e260",
   "metadata": {},
   "source": [
    "# Arrays"
   ]
  },
  {
   "cell_type": "markdown",
   "id": "4cfdad05",
   "metadata": {},
   "source": [
    "<h3><a href='https://takeuforward.org/data-structure/linear-search-in-c/'>Problem Statement 1: Linear Search</a></h3>\n",
    "<p>Given an array, and an element num the task is to find if num is present in the given array or not. If present print the index of the element or print -1.</p>\n",
    "<pre>\n",
    "Example 1:\n",
    "Input: arr[]= 1 2 3 4 5, num = 3\n",
    "Output: 2\n",
    "Explanation: 3 is present in the 2nd index\n",
    "\n",
    "Example 2:\n",
    "Input: arr[]= 5 4 3 2 1, num = 5\n",
    "Output: 0\n",
    "Explanation: 5 is present in the 0th index\n",
    "</pre>"
   ]
  },
  {
   "cell_type": "code",
   "execution_count": 1,
   "id": "985695a7",
   "metadata": {},
   "outputs": [],
   "source": [
    "\"\"\"\n",
    "Time Complexity  : O( n )\n",
    "Space Complexity : O( 1 )\n",
    "\"\"\"\n",
    "def linear_search(arr, num):\n",
    "    n = len(arr)\n",
    "    \n",
    "    for i in range(0, n):\n",
    "        if arr[i] == num:\n",
    "            return i\n",
    "    \n",
    "    return -1"
   ]
  },
  {
   "cell_type": "code",
   "execution_count": 2,
   "id": "0db6b127",
   "metadata": {},
   "outputs": [
    {
     "name": "stdout",
     "output_type": "stream",
     "text": [
      "arr: [1, 2, 3, 4, 5] num: 3 Index: 2\n",
      "arr: [5, 4, 3, 2, 1] num: 5 Index: 0\n",
      "arr: [5, 4, 3, 2, 1] num: 7 Index: -1\n"
     ]
    }
   ],
   "source": [
    "test_cases = [{'arr': [1,2,3,4,5], 'num': 3}, \n",
    "              {'arr': [5,4,3,2,1], 'num': 5},\n",
    "              {'arr': [5,4,3,2,1], 'num': 7}]\n",
    "\n",
    "for tc in test_cases:\n",
    "    arr = tc['arr']\n",
    "    num = tc['num']\n",
    "    print('arr:', arr, 'num:', num, 'Index:', linear_search(arr, num))"
   ]
  },
  {
   "cell_type": "markdown",
   "id": "8dc34c21",
   "metadata": {},
   "source": [
    "<h3><a href='https://takeuforward.org/data-structure/check-if-an-array-is-sorted/'>Problem Statement 2: Check if an Array is Sorted</a></h3>\n",
    "<p>Given an array of size n, write a program to check if the given array is sorted in (ascending / Increasing / Non-decreasing) order or not. If the array is sorted then return True, Else return False.<br/>\n",
    "<br/>\n",
    "<i><b>Note:</b> Two consecutive equal values are considered to be sorted.</i></p>\n",
    "<pre>\n",
    "Example 1:\n",
    "Input: N = 5, array[] = {1,2,3,4,5}\n",
    "Output: True.\n",
    "Explanation: The given array is sorted.\n",
    "\n",
    "Example 2:\n",
    "Input: N = 5, array[] = {5,4,6,7,8}\n",
    "Output: False.\n",
    "Explanation: The given array is not sorted. Element 5 is not smaller than or equal to its next elements.\n",
    "</pre>"
   ]
  },
  {
   "cell_type": "code",
   "execution_count": 3,
   "id": "b811b32a",
   "metadata": {},
   "outputs": [],
   "source": [
    "\"\"\"\n",
    "Time Complexity  : O( n )\n",
    "Space Complexity : O( 1 )\n",
    "\"\"\"\n",
    "def is_sorted(arr):\n",
    "    n = len(arr)\n",
    "    \n",
    "    for i in range(1, n):\n",
    "        if arr[i-1] > arr[i]:\n",
    "            return False\n",
    "    \n",
    "    return True"
   ]
  },
  {
   "cell_type": "code",
   "execution_count": 4,
   "id": "f96f55ca",
   "metadata": {},
   "outputs": [
    {
     "name": "stdout",
     "output_type": "stream",
     "text": [
      "arr: [1, 2, 3, 4, 5] is sorted: True\n",
      "arr: [4, 6, 5, 7, 8] is sorted: False\n"
     ]
    }
   ],
   "source": [
    "test_cases = [{'arr': [1,2,3,4,5]}, \n",
    "              {'arr': [4,6,5,7,8]}]\n",
    "\n",
    "for tc in test_cases:\n",
    "    arr = tc['arr']\n",
    "    print('arr:', arr, 'is sorted:', is_sorted(arr))"
   ]
  },
  {
   "cell_type": "markdown",
   "id": "a6ecc2d5",
   "metadata": {},
   "source": [
    "<h3><a href='https://takeuforward.org/data-structure/find-the-largest-element-in-an-array/'>Problem Statement 3: Find the largest & smallest elements in an array</a></h3>\n",
    "<p>Given an array, find the largest and the smallest elements in the array.</p>\n",
    "<pre>\n",
    "Example 1:\n",
    "Input: arr[] = {2,5,1,3,0};\n",
    "Output: (0, 5)\n",
    "\n",
    "Example2: \n",
    "Input: arr[] = {8,10,5,7,9};\n",
    "Output: (5, 10)\n",
    "</pre>"
   ]
  },
  {
   "cell_type": "code",
   "execution_count": 5,
   "id": "2afc121c",
   "metadata": {},
   "outputs": [],
   "source": [
    "\"\"\"\n",
    "Time Complexity  : O( n )\n",
    "Space Complexity : O( 1 )\n",
    "\"\"\"\n",
    "def find_min_max(arr):\n",
    "    mini = maxi = arr[0]\n",
    "    \n",
    "    n = len(arr)\n",
    "    for i in range(1, n):\n",
    "        mini = min(arr[i], mini)\n",
    "        maxi = max(arr[i], maxi)\n",
    "    \n",
    "    return mini, maxi"
   ]
  },
  {
   "cell_type": "code",
   "execution_count": 6,
   "id": "90e57a74",
   "metadata": {},
   "outputs": [
    {
     "name": "stdout",
     "output_type": "stream",
     "text": [
      "arr: [2, 5, 1, 3, 0] (min, max): (0, 5)\n",
      "arr: [8, 10, 5, 7, 9] (min, max): (5, 10)\n"
     ]
    }
   ],
   "source": [
    "test_cases = [{'arr': [2,5,1,3,0]}, \n",
    "              {'arr': [8,10,5,7,9]}]\n",
    "\n",
    "for tc in test_cases:\n",
    "    arr = tc['arr']\n",
    "    print('arr:', arr, '(min, max):', find_min_max(arr))"
   ]
  },
  {
   "cell_type": "markdown",
   "id": "be26ec89",
   "metadata": {},
   "source": [
    "<h3><a href='https://takeuforward.org/strivers-a2z-dsa-course/strivers-a2z-dsa-course-sheet-2/'>Problem Statement 4: Find the second largest & smallest elements in an array</a></h3>\n",
    "<p>Given an array, find the second smallest and second largest element in the array. Print ‘-1’ in the event that either of them doesn’t exist.</p>\n",
    "<pre>\n",
    "Example 1:\n",
    "Input: [1,2,4,7,7,5]\n",
    "Output: (2, 5)\n",
    "\n",
    "Example 2:\n",
    "Input: [1]\n",
    "Output: (-1, -1)\n",
    "</pre>"
   ]
  },
  {
   "cell_type": "code",
   "execution_count": 7,
   "id": "41ba727c",
   "metadata": {},
   "outputs": [],
   "source": [
    "\"\"\"\n",
    "Brute force solution\n",
    "\n",
    "Time Complexity  : O( n log n ) [For sorting the array]\n",
    "Space Complexity : O( 1 )\n",
    "\"\"\"\n",
    "def find_2nd_mini_maxi_BFS(arr):\n",
    "    arr.sort()\n",
    "    \n",
    "    #If it is guaranteed that the array has no duplicates\n",
    "    #return arr[1], arr[-2]\n",
    "    \n",
    "    mini = float('inf')\n",
    "    maxi = float('-inf')\n",
    "    n = len(arr)\n",
    "    \n",
    "    for i in range(0, n):\n",
    "        if arr[i] != arr[0]:\n",
    "            mini = min(arr[i], mini)\n",
    "        \n",
    "        if arr[i] != arr[-1]:\n",
    "            maxi = max(arr[i], maxi)\n",
    "    \n",
    "    mini = -1 if mini == float('inf') else mini\n",
    "    maxi = -1 if maxi == float('-inf') else maxi\n",
    "    \n",
    "    return mini, maxi"
   ]
  },
  {
   "cell_type": "code",
   "execution_count": 8,
   "id": "fc970f5e",
   "metadata": {},
   "outputs": [
    {
     "name": "stdout",
     "output_type": "stream",
     "text": [
      "arr: [1] \t\t\t(min, max): (-1, -1)\n",
      "arr: [1, 1, 1, 1, 1, 1] \t(min, max): (-1, -1)\n",
      "arr: [1, 1, 3] \t\t\t(min, max): (3, 1)\n",
      "arr: [1, 2, 4, 5, 7, 7] \t(min, max): (2, 5)\n",
      "arr: [5, 7, 8, 9, 10] \t\t(min, max): (7, 9)\n"
     ]
    }
   ],
   "source": [
    "test_cases = [{'arr': [1]},\n",
    "              {'arr': [1,1,1,1,1,1]},\n",
    "              {'arr': [1,1,3]},\n",
    "              {'arr': [1,2,4,7,7,5]},\n",
    "              {'arr': [8,10,5,7,9]}]\n",
    "\n",
    "\n",
    "print('arr:', test_cases[0]['arr'], '\\t\\t\\t(min, max):', find_2nd_mini_maxi_BFS(arr = test_cases[0]['arr']))\n",
    "print('arr:', test_cases[1]['arr'], '\\t(min, max):',     find_2nd_mini_maxi_BFS(arr = test_cases[1]['arr']))\n",
    "print('arr:', test_cases[2]['arr'], '\\t\\t\\t(min, max):', find_2nd_mini_maxi_BFS(arr = test_cases[2]['arr']))\n",
    "print('arr:', test_cases[3]['arr'], '\\t(min, max):',     find_2nd_mini_maxi_BFS(arr = test_cases[3]['arr']))\n",
    "print('arr:', test_cases[4]['arr'], '\\t\\t(min, max):',   find_2nd_mini_maxi_BFS(arr = test_cases[4]['arr']))"
   ]
  },
  {
   "cell_type": "code",
   "execution_count": 9,
   "id": "31b98b08",
   "metadata": {},
   "outputs": [],
   "source": [
    "\"\"\"\n",
    "Better solution\n",
    "\n",
    "Time Complexity  : O( 2n )\n",
    "Space Complexity : O( 1 )\n",
    "\"\"\"\n",
    "def find_2nd_mini_maxi_BS(arr):\n",
    "    n = len(arr)\n",
    "    \n",
    "    mini = maxi = arr[0]\n",
    "    for i in range(1, n):\n",
    "        mini = min(arr[i], mini)\n",
    "        maxi = max(arr[i], maxi)\n",
    "    \n",
    "    second_mini = float('inf')\n",
    "    second_maxi = float('-inf')\n",
    "    for i in range(0, n):\n",
    "        if arr[i] != mini:\n",
    "            second_mini = min(arr[i], second_mini)\n",
    "        \n",
    "        if arr[i] != maxi:\n",
    "            second_maxi = max(arr[i], second_maxi)\n",
    "    \n",
    "    second_mini = -1 if second_mini == float('inf') else second_mini\n",
    "    second_maxi = -1 if second_maxi == float('-inf') else second_maxi\n",
    "    \n",
    "    return second_mini, second_maxi"
   ]
  },
  {
   "cell_type": "code",
   "execution_count": 10,
   "id": "3637dc3c",
   "metadata": {},
   "outputs": [
    {
     "name": "stdout",
     "output_type": "stream",
     "text": [
      "arr: [1] \t\t\t(min, max): (-1, -1)\n",
      "arr: [1, 1, 1, 1, 1, 1] \t(min, max): (-1, -1)\n",
      "arr: [1, 1, 3] \t\t\t(min, max): (3, 1)\n",
      "arr: [1, 2, 4, 7, 7, 5] \t(min, max): (2, 5)\n",
      "arr: [8, 10, 5, 7, 9] \t\t(min, max): (7, 9)\n"
     ]
    }
   ],
   "source": [
    "test_cases = [{'arr': [1]},\n",
    "              {'arr': [1,1,1,1,1,1]},\n",
    "              {'arr': [1,1,3]},\n",
    "              {'arr': [1,2,4,7,7,5]},\n",
    "              {'arr': [8,10,5,7,9]}]\n",
    "\n",
    "\n",
    "print('arr:', test_cases[0]['arr'], '\\t\\t\\t(min, max):', find_2nd_mini_maxi_BS(arr = test_cases[0]['arr']))\n",
    "print('arr:', test_cases[1]['arr'], '\\t(min, max):',     find_2nd_mini_maxi_BS(arr = test_cases[1]['arr']))\n",
    "print('arr:', test_cases[2]['arr'], '\\t\\t\\t(min, max):', find_2nd_mini_maxi_BS(arr = test_cases[2]['arr']))\n",
    "print('arr:', test_cases[3]['arr'], '\\t(min, max):',     find_2nd_mini_maxi_BS(arr = test_cases[3]['arr']))\n",
    "print('arr:', test_cases[4]['arr'], '\\t\\t(min, max):',   find_2nd_mini_maxi_BS(arr = test_cases[4]['arr']))"
   ]
  },
  {
   "cell_type": "code",
   "execution_count": 11,
   "id": "3ba89335",
   "metadata": {},
   "outputs": [],
   "source": [
    "\"\"\"\n",
    "Optimal solution\n",
    "\n",
    "Time Complexity  : O( n )\n",
    "Space Complexity : O( 1 )\n",
    "\"\"\"\n",
    "def find_2nd_mini_maxi_OS(arr):\n",
    "    n = len(arr)\n",
    "    \n",
    "    mini, second_mini = arr[0], float('inf')\n",
    "    second_maxi, maxi = float('-inf'), arr[0]\n",
    "    \n",
    "    for i in range(1, n):\n",
    "        #Finds the second smallest element\n",
    "        if arr[i] < mini:\n",
    "            second_mini = mini\n",
    "            mini = arr[i]\n",
    "        elif arr[i] > mini and arr[i] < second_mini:\n",
    "            second_mini = arr[i]\n",
    "        \n",
    "        #Finds the second largest element\n",
    "        if arr[i] > maxi:\n",
    "            second_maxi = maxi\n",
    "            maxi = arr[i]\n",
    "        elif arr[i] < maxi and arr[i] > second_maxi:\n",
    "            second_maxi = arr[i]\n",
    "    \n",
    "    second_mini = -1 if second_mini == float('inf') else second_mini\n",
    "    second_maxi = -1 if second_maxi == float('-inf') else second_maxi\n",
    "    \n",
    "    return second_mini, second_maxi"
   ]
  },
  {
   "cell_type": "code",
   "execution_count": 12,
   "id": "d4d10837",
   "metadata": {},
   "outputs": [
    {
     "name": "stdout",
     "output_type": "stream",
     "text": [
      "arr: [1] \t\t\t(min, max): (-1, -1)\n",
      "arr: [1, 1, 1, 1, 1, 1] \t(min, max): (-1, -1)\n",
      "arr: [1, 1, 3] \t\t\t(min, max): (3, 1)\n",
      "arr: [1, 2, 4, 7, 7, 5] \t(min, max): (2, 5)\n",
      "arr: [8, 10, 5, 7, 9] \t\t(min, max): (7, 9)\n"
     ]
    }
   ],
   "source": [
    "test_cases = [{'arr': [1]},\n",
    "              {'arr': [1,1,1,1,1,1]},\n",
    "              {'arr': [1,1,3]},\n",
    "              {'arr': [1,2,4,7,7,5]},\n",
    "              {'arr': [8,10,5,7,9]}]\n",
    "\n",
    "\n",
    "print('arr:', test_cases[0]['arr'], '\\t\\t\\t(min, max):', find_2nd_mini_maxi_OS(arr = test_cases[0]['arr']))\n",
    "print('arr:', test_cases[1]['arr'], '\\t(min, max):',     find_2nd_mini_maxi_OS(arr = test_cases[1]['arr']))\n",
    "print('arr:', test_cases[2]['arr'], '\\t\\t\\t(min, max):', find_2nd_mini_maxi_OS(arr = test_cases[2]['arr']))\n",
    "print('arr:', test_cases[3]['arr'], '\\t(min, max):',     find_2nd_mini_maxi_OS(arr = test_cases[3]['arr']))\n",
    "print('arr:', test_cases[4]['arr'], '\\t\\t(min, max):',   find_2nd_mini_maxi_OS(arr = test_cases[4]['arr']))"
   ]
  },
  {
   "cell_type": "markdown",
   "id": "385de710",
   "metadata": {},
   "source": [
    "<h3><a href='#'>Problem Statement 5: Reverse an array in-place</a></h3>\n",
    "<p>Given an array, reverse it in-place (i.e. without using extra space).</p>\n",
    "<pre>\n",
    "Example 1:\n",
    "Input: [1,2,4,7,7,5]\n",
    "Output: [5,7,7,4,2,1]\n",
    "\n",
    "Example 2:\n",
    "Input: [1]\n",
    "Output: [1]\n",
    "</pre>"
   ]
  },
  {
   "cell_type": "code",
   "execution_count": 13,
   "id": "d4f514d5",
   "metadata": {},
   "outputs": [],
   "source": [
    "\"\"\"\n",
    "Time Complexity  : O( n )\n",
    "Space Complexity : O( 1 )\n",
    "\"\"\"\n",
    "def inplace_reverse(arr):\n",
    "    i = 0\n",
    "    j = len(arr) - 1\n",
    "    \n",
    "    while i < j:\n",
    "        arr[i], arr[j] = arr[j], arr[i]\n",
    "        i += 1\n",
    "        j -= 1"
   ]
  },
  {
   "cell_type": "code",
   "execution_count": 14,
   "id": "4c35496a",
   "metadata": {},
   "outputs": [
    {
     "name": "stdout",
     "output_type": "stream",
     "text": [
      "Reversed arr: [5, 7, 7, 4, 2, 1]\n",
      "Reversed arr: [1]\n"
     ]
    }
   ],
   "source": [
    "test_cases = [{'arr': [1,2,4,7,7,5]}, \n",
    "              {'arr': [1]}]\n",
    "\n",
    "for tc in test_cases:\n",
    "    arr = tc['arr']\n",
    "    inplace_reverse(arr)\n",
    "    print('Reversed arr:', arr)"
   ]
  },
  {
   "cell_type": "markdown",
   "id": "c3c53bfa",
   "metadata": {},
   "source": [
    "<h3><a href='https://takeuforward.org/data-structure/move-all-zeros-to-the-end-of-the-array/'>Problem Statement 6: Move all Zeros to the end of the array</a></h3>\n",
    "<p>You are given an array of integers, your task is to move all the zeros in the array to the end of the array and move non-negative integers to the front <b style='color:red'>by maintaining their order</b>.</p>\n",
    "<pre>\n",
    "Example 1:\n",
    "Input: 1 ,0 ,2 ,3 ,0 ,4 ,0 ,1\n",
    "Output: 1 ,2 ,3 ,4 ,1 ,0 ,0 ,0\n",
    "Explanation: All the zeros are moved to the end and non-negative integers are moved to front by maintaining order\n",
    "\n",
    "Example 2:\n",
    "Input: 1,2,0,1,0,4,0\n",
    "Output: 1,2,1,4,0,0,0\n",
    "Explanation: All the zeros are moved to the end and non-negative integers are moved to front by maintaining order\n",
    "</pre>"
   ]
  },
  {
   "cell_type": "code",
   "execution_count": 15,
   "id": "3ceffb77",
   "metadata": {},
   "outputs": [],
   "source": [
    "\"\"\"\n",
    "Time Complexity  : O( n )\n",
    "Space Complexity : O( 1 )\n",
    "\"\"\"\n",
    "def move_zeroes(arr):\n",
    "    n = len(arr)\n",
    "    \n",
    "    for i in range(0, n):\n",
    "        if arr[i] == 0:\n",
    "            j = i\n",
    "            break\n",
    "    \n",
    "    for i in range(j+1, n):\n",
    "        if arr[i] != 0:\n",
    "            arr[i], arr[j] = arr[j], arr[i]\n",
    "            j += 1"
   ]
  },
  {
   "cell_type": "code",
   "execution_count": 16,
   "id": "82bbdcc3",
   "metadata": {},
   "outputs": [
    {
     "name": "stdout",
     "output_type": "stream",
     "text": [
      "New arr: [1, 2, 3, 4, 1, 0, 0, 0]\n",
      "New arr: [1, 2, 1, 4, 0, 0, 0, 0]\n"
     ]
    }
   ],
   "source": [
    "test_cases = [{'arr': [1,0,2,3,0,4,0,1]}, \n",
    "              {'arr': [1,2,0,1,0,4,0,0]}]\n",
    "\n",
    "for tc in test_cases:\n",
    "    arr = tc['arr']\n",
    "    move_zeroes(arr)\n",
    "    print('New arr:', arr)"
   ]
  },
  {
   "cell_type": "markdown",
   "id": "55df2ec7",
   "metadata": {},
   "source": [
    "<h3><a href='https://takeuforward.org/data-structure/remove-duplicates-in-place-from-sorted-array/'>Problem Statement 7: Remove duplicates in-place from Sorted Array</a></h3>\n",
    "<p>Given an integer array sorted in <b style=\"color:red\">ascending order</b>, remove the duplicates in place such that each unique element appears only once. <b style=\"color:red\">The relative order of the elements should be kept the same</b>.<br/>\n",
    "<br/>\n",
    "If there are k elements after removing the duplicates, then the first k elements of the array should hold the final result. It does not matter what you leave beyond the first k elements.<br/>\n",
    "<br/>\n",
    "<i><b>Note:</b> Return k after placing the final result in the first k slots of the array.</i></p>\n",
    "<pre>\n",
    "Example 1: \n",
    "Input: arr[1,1,2,2,2,3,3]\n",
    "Output: arr[1,2,3,_,_,_,_]\n",
    "Explanation: Total number of unique elements are 3, i.e [1,2,3] and Therefore return 3 after assigning [1,2,3] in the beginning of the array.\n",
    "\n",
    "Example 2: \n",
    "Input: arr[1,1,1,2,2,3,3,3,3,4,4]\n",
    "Output: arr[1,2,3,4,_,_,_,_,_,_,_]\n",
    "Explanation: Total number of unique elements are 4, i.e[1,2,3,4] and Therefore return 4 after assigning [1,2,3,4] in the beginning of the array.\n",
    "</pre>"
   ]
  },
  {
   "cell_type": "code",
   "execution_count": 17,
   "id": "e5999154",
   "metadata": {},
   "outputs": [],
   "source": [
    "def remove_duplicates(arr):\n",
    "    n = len(arr)\n",
    "    \n",
    "    j = 0\n",
    "    for i in range(0, n):\n",
    "        if arr[i] != arr[j]:\n",
    "            j += 1\n",
    "            arr[i], arr[j] = arr[j], arr[i]\n",
    "    \n",
    "    return j+1"
   ]
  },
  {
   "cell_type": "code",
   "execution_count": 18,
   "id": "012125e8",
   "metadata": {},
   "outputs": [
    {
     "name": "stdout",
     "output_type": "stream",
     "text": [
      "arr: [1, 1, 2, 2, 2, 3, 3]\t\tUnique Elements: 3\tNew arr: [1, 2, 3, 2, 2, 1, 3]\n",
      "arr: [1, 1, 1, 2, 2, 3, 3, 3, 3, 4, 4]\tUnique Elements: 4\tNew arr: [1, 2, 3, 4, 2, 1, 3, 3, 3, 1, 4]\n"
     ]
    }
   ],
   "source": [
    "test_cases = [{'arr': [1,1,2,2,2,3,3]}, \n",
    "              {'arr': [1,1,1,2,2,3,3,3,3,4,4]}]\n",
    "\n",
    "arr = test_cases[0]['arr']\n",
    "print(f\"arr: {arr}\\t\\tUnique Elements: {remove_duplicates(arr)}\\tNew arr: {arr}\")\n",
    "arr = test_cases[1]['arr']\n",
    "print(f\"arr: {arr}\\tUnique Elements: {remove_duplicates(arr)}\\tNew arr: {arr}\")"
   ]
  },
  {
   "cell_type": "markdown",
   "id": "5b8ede05",
   "metadata": {},
   "source": [
    "<h3><a href='https://takeuforward.org/data-structure/rotate-array-by-k-elements/'>Problem Statement 8: Rotate array by K elements</a></h3>\n",
    "<p>Given an array of integers, rotating array of elements by k elements either left or right.</p>\n",
    "<pre>\n",
    "Example 1:\n",
    "Input: arr = [1,2,3,4,5,6,7], k = 2, right\n",
    "Output: arr = [6,7,1,2,3,4,5]\n",
    "Explanation: array is rotated to right by 2 position.\n",
    "\n",
    "Example 2:\n",
    "Input: arr = [3,7,8,9,10,11], k = 3, left \n",
    "Output: arr = [9,10,11,3,7,8]\n",
    "Explanation: Array is rotated to right by 3 position.\n",
    "</pre>"
   ]
  },
  {
   "cell_type": "code",
   "execution_count": 19,
   "id": "b67f6096",
   "metadata": {},
   "outputs": [],
   "source": [
    "\"\"\"\n",
    "Better solution\n",
    "\n",
    "Time Complexity  : O( n )\n",
    "Space Complexity : O( k )\n",
    "\"\"\"\n",
    "def rotate_BS(arr, k, direction):\n",
    "    n = len(arr)\n",
    "    k = k % n\n",
    "    \n",
    "    if direction == 'LEFT':\n",
    "        tmp_arr = arr[:k]\n",
    "        \n",
    "        for i in range(k, n):\n",
    "            arr[i - k] = arr[i]\n",
    "        \n",
    "        for i in range(n-k, n):\n",
    "            arr[i] = tmp_arr[i - k]\n",
    "    else:\n",
    "        tmp_arr = arr[n-k:]\n",
    "        \n",
    "        for i in range(n-k-1, -1, -1):\n",
    "            arr[i + k] = arr[i]\n",
    "        \n",
    "        for i in range(0, k):\n",
    "            arr[i] = tmp_arr[i]"
   ]
  },
  {
   "cell_type": "code",
   "execution_count": 20,
   "id": "9e46cc85",
   "metadata": {},
   "outputs": [
    {
     "name": "stdout",
     "output_type": "stream",
     "text": [
      "arr: [1, 2, 3, 4, 5, 6, 7]\tk: 2\tdirection:  RIGHT\tNew arr: [6, 7, 1, 2, 3, 4, 5]\n",
      "arr: [3, 7, 8, 9, 10, 11]\tk: 3\tdirection:  LEFT\tNew arr: [9, 10, 11, 3, 7, 8]\n"
     ]
    }
   ],
   "source": [
    "test_cases = [{'arr': [1,2,3,4,5,6,7], 'k': 2, 'direction': 'RIGHT'}, \n",
    "              {'arr': [3,7,8,9,10,11], 'k': 3, 'direction': 'LEFT'}]\n",
    "\n",
    "for tc in test_cases:\n",
    "    print(f\"arr: {tc['arr']}\\tk: {tc['k']}\\tdirection:  {tc['direction']}\\t\", end='')\n",
    "    rotate_BS(arr=tc['arr'], k=tc['k'], direction=tc['direction'])\n",
    "    print(f\"New arr: {tc['arr']}\")"
   ]
  },
  {
   "cell_type": "code",
   "execution_count": 21,
   "id": "da1b7620",
   "metadata": {},
   "outputs": [],
   "source": [
    "\"\"\"\n",
    "Optimal solution\n",
    "\n",
    "Time Complexity  : O( 2n )\n",
    "Space Complexity : O( 1 )\n",
    "\"\"\"\n",
    "def reverse_inplace(arr, i, j):\n",
    "    while i < j:\n",
    "        arr[i], arr[j] = arr[j], arr[i]\n",
    "        i += 1\n",
    "        j -= 1\n",
    "\n",
    "\n",
    "def rotate_OS(arr, k, direction):\n",
    "    n = len(arr)\n",
    "    k = k % n\n",
    "    \n",
    "    if direction == 'LEFT':\n",
    "        reverse_inplace(arr, 0, k-1)\n",
    "        reverse_inplace(arr, k, n-1)\n",
    "        reverse_inplace(arr, 0, n-1)\n",
    "    else:\n",
    "        reverse_inplace(arr, 0, n-k-1)\n",
    "        reverse_inplace(arr, n-k, n-1)\n",
    "        reverse_inplace(arr, 0, n-1)"
   ]
  },
  {
   "cell_type": "code",
   "execution_count": 22,
   "id": "c94111e2",
   "metadata": {},
   "outputs": [
    {
     "name": "stdout",
     "output_type": "stream",
     "text": [
      "arr: [1, 2, 3, 4, 5, 6, 7]\tk: 2\tdirection:  RIGHT\tNew arr: [6, 7, 1, 2, 3, 4, 5]\n",
      "arr: [3, 7, 8, 9, 10, 11]\tk: 3\tdirection:  LEFT\tNew arr: [9, 10, 11, 3, 7, 8]\n"
     ]
    }
   ],
   "source": [
    "test_cases = [{'arr': [1,2,3,4,5,6,7], 'k': 2, 'direction': 'RIGHT'}, \n",
    "              {'arr': [3,7,8,9,10,11], 'k': 3, 'direction': 'LEFT'}]\n",
    "\n",
    "for tc in test_cases:\n",
    "    print(f\"arr: {tc['arr']}\\tk: {tc['k']}\\tdirection:  {tc['direction']}\\t\", end='')\n",
    "    rotate_OS(arr=tc['arr'], k=tc['k'], direction=tc['direction'])\n",
    "    print(f\"New arr: {tc['arr']}\")"
   ]
  },
  {
   "cell_type": "code",
   "execution_count": null,
   "id": "f5177bb8",
   "metadata": {},
   "outputs": [],
   "source": []
  }
 ],
 "metadata": {
  "kernelspec": {
   "display_name": "Python 3 (ipykernel)",
   "language": "python",
   "name": "python3"
  },
  "language_info": {
   "codemirror_mode": {
    "name": "ipython",
    "version": 3
   },
   "file_extension": ".py",
   "mimetype": "text/x-python",
   "name": "python",
   "nbconvert_exporter": "python",
   "pygments_lexer": "ipython3",
   "version": "3.10.4"
  }
 },
 "nbformat": 4,
 "nbformat_minor": 5
}
